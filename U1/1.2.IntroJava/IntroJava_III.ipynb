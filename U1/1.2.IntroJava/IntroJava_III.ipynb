{
 "cells": [
  {
   "cell_type": "markdown",
   "metadata": {
    "slideshow": {
     "slide_type": "slide"
    }
   },
   "source": [
    "### Índice\n",
    "\n",
    "<div style=\"text-align:center; font-size:24px\">Introducción a Java</div>\n",
    "\n",
    "\n",
    "1. Introducción\n",
    "2. **Variables, expresiones y control de flujo**  \n",
    "    2.1. <a href=\"#var\">**Variables, objetos, literales y constantes**</a>  \n",
    "    2.2. <a href=\"#operadores\">**Operadores, expresiones y comentarios**</a>   \n",
    "    2.3. <a href=\"#control\">**Control de flujo**</a>  \n",
    "3. Clases y objetos\n",
    "4. Otros aspectos del lenguaje\n",
    "5. Ficheros `.jar`\n",
    "\n",
    "(Parte III)"
   ]
  },
  {
   "cell_type": "markdown",
   "metadata": {
    "slideshow": {
     "slide_type": "subslide"
    }
   },
   "source": [
    "<div id=\"variables\"></div> \n",
    "<div id=\"var\"></div>\n",
    "\n",
    "### [2.1.5. Tipos compuestos: arrays y colecciones](#Índice)"
   ]
  },
  {
   "cell_type": "markdown",
   "metadata": {
    "slideshow": {
     "slide_type": "slide"
    }
   },
   "source": [
    "Agrupaciones de elementos de cualquier tipo\n",
    "\n",
    "#### Arrays\n",
    "\n",
    "```java\n",
    "<TIPO> [ ] ... [ ] <NOMBRE_ARRAY> = new <TIPO> [ dim1 ] ... [ dim_n ];\n",
    "```\n",
    "\n",
    "o bien\n",
    "```java\n",
    "<TIPO> [ ] ... [ ] <NOMBRE_ARRAY>;                     // Creación de referencia\n",
    "<NOMBRE_ARRAY> = new <TIPO> [ dim1 ] ... [ dim_n ];    // Reserva de memoria\n",
    "```\n",
    "\n",
    "En la primera forma de declaración se realizan ambas tareas simultaneamente.\n",
    "\n",
    "\n",
    "Si se inicializa el *array*, las dimensiones del mismo se deducen del propio valor inicial.\n",
    "```java\n",
    "<TIPO> [ ] ... [ ] <NOMBRE_ARRAY> = { { <valor>, <valor>, ... }, { <valor>, <valor>, ...}, ... };\n",
    "```\n",
    "\n"
   ]
  },
  {
   "cell_type": "code",
   "execution_count": null,
   "metadata": {
    "slideshow": {
     "slide_type": "subslide"
    }
   },
   "outputs": [],
   "source": [
    "float [ ] vector = new float[ 2 ];\n",
    "vector[0] = 1.1f;\n",
    "vector[1] = 2.2f;\n",
    "System.out.println(\"vector.length = \" + vector.length);\n",
    "System.out.println(\"vector: \" + vector[0] + \", \" + vector[1]);    "
   ]
  },
  {
   "cell_type": "code",
   "execution_count": null,
   "metadata": {
    "slideshow": {
     "slide_type": "-"
    }
   },
   "outputs": [],
   "source": [
    "float [ ] vector;\n",
    "vector = new float[ 2 ];\n",
    "vector[0] = 1.1f;\n",
    "vector[1] = 2.2f;\n",
    "System.out.println(\"vector.length = \" + vector.length);\n",
    "System.out.println(\"vector: \" + vector[0] + \", \" + vector[1]);    "
   ]
  },
  {
   "cell_type": "code",
   "execution_count": null,
   "metadata": {
    "slideshow": {
     "slide_type": "fragment"
    }
   },
   "outputs": [],
   "source": [
    "float [ ] vector = {1.1f, 2.2f, 3.3f};\n",
    "System.out.println(\"vector.length = \" + vector.length);\n",
    "System.out.println(\"vector: \" + vector[0] + \", \" + vector[1] + \", \" + vector[2]);    "
   ]
  },
  {
   "cell_type": "code",
   "execution_count": null,
   "metadata": {
    "slideshow": {
     "slide_type": "subslide"
    }
   },
   "outputs": [],
   "source": [
    "int [ ][ ] matriz = new int[ 2 ][ 4 ];\n",
    "matriz[0][0] = 0;\n",
    "matriz[0][1] = 23;\n",
    "matriz[0][2] = 45;\n",
    "matriz[0][3] = -34;\n",
    "matriz[1][0] = 27;\n",
    "// ...\n",
    "System.out.println(\"matriz.length = \" + matriz.length);\n",
    "System.out.println(\"matriz[0].length = \" + matriz[0].length);\n",
    "System.out.println(\"matriz[0] (fila 0): \" + matriz[0][0] + \", \" + matriz[0][1] + \", \" + matriz[0][2] + \", \" + matriz[0][3]);\n",
    "System.out.println(\"matriz[1].length = \" + matriz[1].length);\n"
   ]
  },
  {
   "cell_type": "code",
   "execution_count": null,
   "metadata": {
    "slideshow": {
     "slide_type": "fragment"
    }
   },
   "outputs": [],
   "source": [
    "int [ ][ ] array = { { 1, 2, 3 }, { 4, 5, 6 } }; // matriz de 2 dimensiones: 2x3\n",
    "System.out.println(\"array.length = \" + array.length);\n",
    "System.out.println(\"array[0].length = \" + array[0].length);\n",
    "System.out.println(\"array[0] (fila 0): \" + array[0][0] + \", \" + array[0][1] + \", \" + array[0][2]);\n",
    "System.out.println(\"array[1] (fila 1): \" + array[1][0] + \", \" + array[1][1] + \", \" + array[1][2]);"
   ]
  },
  {
   "cell_type": "code",
   "execution_count": null,
   "metadata": {
    "slideshow": {
     "slide_type": "subslide"
    }
   },
   "outputs": [],
   "source": [
    "String [ ][ ] identificadores = { { \"Pepe\", \"Manolo\", \"Felipe\" }, { \"Gutiérrez\", \"González\", \"López\" } }; // matriz de 2 dimensiones: 2x3\n",
    "System.out.println(\"identificadores.length = \" + identificadores.length);\n",
    "System.out.println(\"identificadores[0].length = \" + identificadores[0].length);\n",
    "System.out.println(\"identificadores[0] (fila 0): \" + identificadores[0][0] + \", \" + identificadores[0][1] + \", \" + identificadores[0][2]);\n"
   ]
  },
  {
   "cell_type": "markdown",
   "metadata": {
    "slideshow": {
     "slide_type": "subslide"
    }
   },
   "source": [
    "#### Colecciones\n",
    "\n",
    "Se requiere un estudio más exhaustivo. Una breve reseña:"
   ]
  },
  {
   "cell_type": "code",
   "execution_count": null,
   "metadata": {
    "slideshow": {
     "slide_type": "-"
    }
   },
   "outputs": [],
   "source": [
    "ArrayList<Integer> lista = new ArrayList<Integer>( );\n",
    "\n",
    "lista.add( new Integer( 7 ) );\n",
    "lista.add( new Integer( 8 ) );\n",
    "\n",
    "for ( Integer n : lista ) {\n",
    "    System.out.println( \"Elemento: \" + n.toString( ) );\n",
    "}"
   ]
  },
  {
   "cell_type": "markdown",
   "metadata": {
    "slideshow": {
     "slide_type": "subslide"
    }
   },
   "source": [
    "#### Enumeraciones\n",
    "\n",
    "Se desarrollarán un poco más posteriormente. Un avance:"
   ]
  },
  {
   "cell_type": "code",
   "execution_count": null,
   "metadata": {},
   "outputs": [],
   "source": [
    "enum laborables { LUNES, MARTES, MIERCOLES, JUEVES, VIERNES };\n",
    "System.out.println(\"Hoy es \" + laborables.LUNES);"
   ]
  },
  {
   "cell_type": "markdown",
   "metadata": {
    "slideshow": {
     "slide_type": "subslide"
    }
   },
   "source": [
    "### 2.1.6. Ámbito, declaración e inicialización local de atributos y variables"
   ]
  },
  {
   "cell_type": "markdown",
   "metadata": {},
   "source": [
    "- Matiz entre variable y atributo:\n",
    "    - **Atributo**: variable que pertenece a un **objeto**\n",
    "    - **Variable**: variable que pertenece a un **método** (abusando del lenguaje, a los atributos también se les denomina variables del objeto o de la clase)\n",
    "- Se profundizará en ello más adelante"
   ]
  },
  {
   "cell_type": "markdown",
   "metadata": {
    "slideshow": {
     "slide_type": "subslide"
    }
   },
   "source": [
    "\n",
    "#### Ámbito de variables: ámbito de *bloque*\n",
    "\n",
    "Bloque de instrucciones: conjunto de instrucciones delimitadas por `{` y `}`\n",
    "\n",
    "```java\n",
    "\n",
    "1 {\n",
    "2    int a;\n",
    "3    {\n",
    "4       int b;\n",
    "5       {\n",
    "6          ...\n",
    "7       }\n",
    "8    }\n",
    "9 }\n",
    "```\n",
    "\n",
    "Tres bloques: 1--9, 3--8, 5--7\n",
    "\n",
    "`a` sólo es accesible desde su declaración hasta el cierre del bloque donde ha sido declarada: líneas 2-9\n",
    "\n",
    "`b` sólo es accesible desde su declaración hasta el cierre del bloque donde ha sido declarada: líneas 4-8"
   ]
  },
  {
   "cell_type": "markdown",
   "metadata": {
    "slideshow": {
     "slide_type": "subslide"
    }
   },
   "source": [
    "Una variable no se puede *redeclarar* en el **mismo** ámbito, pero sí puede en ámbitos *disjuntos*:"
   ]
  },
  {
   "cell_type": "code",
   "execution_count": null,
   "metadata": {},
   "outputs": [],
   "source": [
    "boolean control = true;\n",
    "\n",
    "if (control) {\n",
    "    int x;\n",
    "    x = 2;\n",
    "    System.out.println(\"x: \" + x);\n",
    "} else {\n",
    "    int x;\n",
    "    x = 20;\n",
    "    System.out.println(\"x: \" + x);\n",
    "    //int x = 100;   // Error por re-declaración en mismo bloque\n",
    "}\n"
   ]
  },
  {
   "cell_type": "markdown",
   "metadata": {
    "slideshow": {
     "slide_type": "subslide"
    }
   },
   "source": [
    "#### Inicialización\n",
    "- Objetos/Atributos de un objeto (variables de clase o de instancia):\n",
    "    - Inicializadas implícita y automáticamente\n",
    "        - Variables numéricas/caracteres de tipos primitivos : a `0`\n",
    "        - Variables booleanas: `false`\n",
    "        - Objetos: `null`\n",
    "- Variables/objetos **locales** (a métodos):\n",
    "    - **no** son inicializadas implícitamente\n",
    "    - Si su primer acceso es de lectura: error en tiempo de compilación\n",
    "\n",
    "\n",
    "El término **local** siempre hace referencia a que pertenece a un **método**"
   ]
  },
  {
   "cell_type": "markdown",
   "metadata": {
    "slideshow": {
     "slide_type": "subslide"
    }
   },
   "source": [
    "Ejemplos de inicialización implícita de variables primitivas y objetos como atributos y como variables locales:"
   ]
  },
  {
   "cell_type": "code",
   "execution_count": null,
   "metadata": {
    "slideshow": {
     "slide_type": "fragment"
    }
   },
   "outputs": [],
   "source": [
    "class Inicializacion {\n",
    "   \n",
    "    class OtraClase {\n",
    "        // Descripción de la clase: atributos y métodos\n",
    "    }\n",
    "\n",
    "    // Se declaran con el modificador static para que puedan ser accedidas desde un metodo estático: main\n",
    "    // Este detalle se estudiará posteriormente\n",
    "    static int i;\n",
    "    static float x;\n",
    "    static char a;\n",
    "    static boolean z;\n",
    "    static String linea;\n",
    "    static OtraClase objeto;\n",
    "\n",
    "    public static void main(String[] args) {\n",
    "    \n",
    "        System.out.println(\"i: \" + i );\n",
    "        System.out.println(\"x: \" + x );\n",
    "        System.out.println(\"a: \" + a );\n",
    "        System.out.println(\"(short)a: \" + (short)a );\n",
    "        System.out.println(\"z: \" + z );\n",
    "        System.out.println(\"linea: \" + linea );\n",
    "        System.out.println(\"objeto: \" + objeto );\n",
    "              \n",
    "        int local_i;\n",
    "        // Error: uso sin inicializar!!!\n",
    "        //System.out.println(\"local_i: \" + local_i);\n",
    "        \n",
    "    } // main\n",
    "    \n",
    "} // Inicialización\n",
    "\n",
    "Inicializacion.main(null);"
   ]
  },
  {
   "cell_type": "markdown",
   "metadata": {
    "slideshow": {
     "slide_type": "subslide"
    }
   },
   "source": [
    "Inicialización implícita de **arrays** de cierto tipo como atributos y como arrays locales:\n",
    "- En ambos casos: a nivel escalar, como si fueran variables primitivas miembro o atributos\n",
    "    - Tipo numérico/caracteres: a `0`\n",
    "    - Tipo booleano: `false`\n",
    "    - Objetos: `null`\n",
    "    \n",
    "Ejemplos:    "
   ]
  },
  {
   "cell_type": "code",
   "execution_count": null,
   "metadata": {
    "slideshow": {
     "slide_type": "fragment"
    }
   },
   "outputs": [],
   "source": [
    "class Inicializacion_arrays {\n",
    "   \n",
    "    // Se declaran con el modificador static para que puedan ser accedidas desde un metodo estático: main\n",
    "    // Este detalle se estudiará posteriormente\n",
    "    static int[]     vector_int    = new int[2];\n",
    "    static double[]  vector_double = new double[2];\n",
    "    static boolean[] vector_bool   = new boolean[2];\n",
    "\n",
    "    public static void main(String[] args) {\n",
    "    \n",
    "        System.out.println(\"vector_int[0]:          \" + vector_int[0]       + \",     vector_int[1]:           \" + vector_int[1]);\n",
    "        int[] vector_int_local = new int[2];\n",
    "        System.out.println(\"vector_int_local[0]:    \" + vector_int_local[0] + \",     vector_int_local[1]:     \" + vector_int_local[1]);\n",
    "\n",
    "\n",
    "        System.out.println(\"vector_double[0]:       \" + vector_double[0]       + \",   vector_double[1]:       \" + vector_double[1]);\n",
    "        double[] vector_double_local = new double[2];\n",
    "        System.out.println(\"vector_double_local[0]: \" + vector_double_local[0] + \",   vector_double_local[1]: \" + vector_double_local[1]);\n",
    "\n",
    "    \n",
    "        System.out.println(\"vector_bool[0]:         \" + vector_bool[0]       + \", vector_bool[1]:         \" + vector_bool[1]);\n",
    "        boolean[] vector_bool_local = new boolean[2];\n",
    "        System.out.println(\"vector_bool_local[0]:   \" + vector_bool_local[0] + \", vector_bool_local[1]:   \" + vector_bool_local[1]);\n",
    "        \n",
    "        \n",
    "    } // main\n",
    "    \n",
    "} // Inicialización\n",
    "\n",
    "Inicializacion_arrays.main(null);"
   ]
  },
  {
   "cell_type": "markdown",
   "metadata": {
    "slideshow": {
     "slide_type": "subslide"
    }
   },
   "source": [
    "#### Inicialización explícita de arrays\n",
    "\n",
    "Inicialización de arrays y arrays anónimos:"
   ]
  },
  {
   "cell_type": "code",
   "execution_count": null,
   "metadata": {},
   "outputs": [],
   "source": [
    "void metodo(String[][] a) {\n",
    "    System.out.println(\"a.length = \" +  a.length);\n",
    "    System.out.println(\"a[0].length = \" +  a[0].length);\n",
    "    System.out.println();\n",
    "}\n",
    "\n",
    "\n",
    "// Inicialización componente a componente: DIMENSIONADO (reserva) en la declaración\n",
    "String[][] nombres = new String[2][2];\n",
    "// O bien por separado, declaración y reserva:\n",
    "//   String[][] nombres; \n",
    "//   nombres = new String[2][2];\n",
    "nombres[0][0] = \"string 0-0\";\n",
    "nombres[0][1] = \"string 0-1\";\n",
    "nombres[1][0] = \"string 1-0\";\n",
    "nombres[1][1] = \"string 1-1\";\n",
    "metodo(nombres);\n",
    "\n",
    "\n",
    "// Inicialización literal de un array: DIMENSIONADO automático en la propia inicialización \n",
    "String[][] nombres_2 = { {\"Hola\", \"Adios\", \"Hasta luego\"}, \n",
    "                         {\"Mañana\", \"Hoy\", \"Ayer\"}, \n",
    "                         {\"Derecha\", \"Izquierda\", \"Arriba\"} \n",
    "                       };\n",
    "metodo(nombres_2);\n",
    "\n",
    "\n",
    "// El argumento es una matriz (array) de strings ANONIMA (DIMENSIONADO en la creación/inicialización)\n",
    "metodo( new String [ ][ ] { {\"Pepe\", \"Manolo\", \"Felipe\"}, \n",
    "                            {\"Gutiérrez\", \"González\", \"López\"}\n",
    "                          }  \n",
    "      );\n",
    "\n"
   ]
  },
  {
   "cell_type": "markdown",
   "metadata": {
    "slideshow": {
     "slide_type": "slide"
    }
   },
   "source": [
    "<div id=\"operadores\"></div>\n",
    "\n",
    "## [2.2. Operadores, expresiones y comentarios](#Índice)"
   ]
  },
  {
   "cell_type": "markdown",
   "metadata": {
    "slideshow": {
     "slide_type": "subslide"
    }
   },
   "source": [
    "### 2.2.1. Operadores y expresiones\n",
    "\n",
    "| Tipo | Operador(es) |\n",
    "|-----:|:-------------|\n",
    "| Asignación | =      |\n",
    "| Aritméticos | +, -, *, /, %, ++, --, +=, -=, *=, /=, %=|\n",
    "| Comparación | ==, !=, <, <=, >, >=, instanceof |\n",
    "| Lógicos |  !, &&, \\|\\| |\n",
    "| Manejo de bits | &, \\|, ˜, ˆ, <<, >>, >>>, &=, \\|=, ˆ=, <<=, >>=, >>>= |\n",
    "| Conversión (casting) | (tipo) |\n",
    "| Ternario | ( )? : |"
   ]
  },
  {
   "cell_type": "markdown",
   "metadata": {
    "slideshow": {
     "slide_type": "subslide"
    }
   },
   "source": [
    "#### Precedencia de operadores\n",
    "\n",
    "Ordenados de **mayor a menor** precedencia. Si dos o más operadores tienen la misma precedencia, se evalúan asociativamente de derecha a izquiera o de izquierda a derecha según flecha (⇒ | ⇐)\n",
    "\n",
    "| Operadores | Precedencia | Orden | Orden si misma precedencia\n",
    "|-----------:|:------------|:-------:|:-------:|\n",
    "| Paréntesis | ( ) | 0 | – |\n",
    "| Postfijos | var++, var-- | 1 | ⇒ |\n",
    "| Unarios   | ++var, --var, +expr, -expr, ˜, ! | 2 | ⇒ |\n",
    "| Multiplicativos |*, /, % | 3 | ⇒ |\n",
    "| Aditivos | +, - | 4 | ⇒ |\n",
    "| Desplazamiento | <<, >>, >>> | 5 | ⇒ |\n",
    "| Relacionales | <, >, <=, >=, instanceof | 6 | ⇒ |\n",
    "| Igualdad | ==, != | 7 | ⇒ |\n",
    "| Y bit a bit | & | 8 | ⇒ |\n",
    "| O exclusiva bit a bit | ˆ | 9 | ⇒ |\n",
    "| O bit a bit | \\| | 10 | ⇒ |\n",
    "|Y lógica | && | 11 | ⇒ |\n",
    "| O lógica | \\|\\| | 12 | ⇒ |\n",
    "| Ternario | ( )? : | 13 | ⇒ |\n",
    "| Asignación | =, +=, -=, *=, /=, %=, &=, ˆ=, \\|=, <<=, >>=, >>>= | 14 | ⇐ |"
   ]
  },
  {
   "cell_type": "code",
   "execution_count": null,
   "metadata": {
    "slideshow": {
     "slide_type": "subslide"
    }
   },
   "outputs": [],
   "source": [
    "int x;\n",
    "x = 1;\n",
    "x += 6 + 3 * 5 % 9 / 3 << 2 * 5 % 4;    // x = 33;\n",
    "System.out.println( \"x = \" + x );"
   ]
  },
  {
   "cell_type": "markdown",
   "metadata": {
    "slideshow": {
     "slide_type": "subslide"
    }
   },
   "source": [
    "```java \n",
    " x += 6 + 3 * 5 % 9 / 3 << 2 * 5 % 4;    // x = 33;\n",
    "   |    |   |   |   |    |   |   |\n",
    "// 14   4   3   3   3    5   3   3      <- Precedencia\n",
    "```\n"
   ]
  },
  {
   "cell_type": "code",
   "execution_count": null,
   "metadata": {
    "slideshow": {
     "slide_type": "subslide"
    }
   },
   "outputs": [],
   "source": [
    "int x;\n",
    "x = 1;\n",
    "x = x + ( ( 6 + ( ( (3 * 5) % 9 ) / 3 ) ) << ( ( 2 * 5 ) % 4 ) ); // x = 33;\n",
    "System.out.println( \"x = \" + x );"
   ]
  },
  {
   "cell_type": "markdown",
   "metadata": {
    "slideshow": {
     "slide_type": "slide"
    }
   },
   "source": [
    "### 2.2.2. Comentarios\n",
    "\n",
    "```java\n",
    "// Comentario de línea (hasta fin de línea)\n",
    "\n",
    "/* Comentario de varias líneas\n",
    "...\n",
    "Última línea de comentario */\n",
    "\n",
    "/** Comentario de javadoc: generación de documentación\n",
    "para Java */\n",
    "```\n"
   ]
  },
  {
   "cell_type": "markdown",
   "metadata": {
    "slideshow": {
     "slide_type": "slide"
    }
   },
   "source": [
    "<div id=\"control\"></div>\n",
    "\n",
    "## [2.3. Control de flujo](#Índice)\n"
   ]
  },
  {
   "cell_type": "markdown",
   "metadata": {
    "slideshow": {
     "slide_type": "fragment"
    }
   },
   "source": [
    "### 2.3.1. Selección simple: `if`\n",
    "\n",
    "\n",
    "```java\n",
    "if ( condición ) {\n",
    "    instrucciones;\n",
    "} else {\n",
    "    instrucciones;\n",
    "}\n",
    "```\n",
    "\n",
    "<img src=\"figuras/if.svg\" alt=\"if\" width=\"250\" style=\"margin:auto\">\n",
    "\n",
    "\n",
    "\n",
    "\n",
    "\n",
    "\n"
   ]
  },
  {
   "cell_type": "code",
   "execution_count": null,
   "metadata": {
    "slideshow": {
     "slide_type": "subslide"
    }
   },
   "outputs": [],
   "source": [
    "int i = 2;\n",
    "if ( i > 3 ) {\n",
    "    x = 6;\n",
    "} else {\n",
    "    x = 7;\n",
    "}\n",
    "System.out.println(\"x = \" + x);"
   ]
  },
  {
   "cell_type": "markdown",
   "metadata": {},
   "source": [
    "#### Operador ternario\n",
    "\n",
    "Genéricamente: \n",
    "```java\n",
    "<VARIABLE> = (<VALOR_BOOLEANO>)? <VALOR_SI_TRUE> : <VALOR_SI_FALSE>;\n",
    "```\n",
    "\n",
    "\n",
    "Ejemplo:\n",
    "```java\n",
    "int x = ( a > b )? 7 : 1;\n",
    "```\n",
    "\n",
    "Equivalente a \n",
    "\n",
    "```java\n",
    "if ( a > b ) {\n",
    "    x = 7;\n",
    "} else {\n",
    "    x = 1;\n",
    "}\n",
    "```\n"
   ]
  },
  {
   "cell_type": "markdown",
   "metadata": {
    "slideshow": {
     "slide_type": "subslide"
    }
   },
   "source": [
    "### 2.3.2. Selección múltiple: \n",
    "\n",
    "#### Sentencia `switch`\n",
    "\n",
    "```java\n",
    "switch ( variable ) {\n",
    "    case valor1: [ instrucciones; ] [ break; ]\n",
    "    case valor2: [ instrucciones; ] [ break; ]\n",
    "    case valor3: [ instrucciones; ] [ break; ]\n",
    "    ...\n",
    "    [ default: [ instrucciones; ] ]\n",
    "}\n",
    "```\n",
    "\n",
    "\n",
    "<img src=\"figuras/switch.svg\" alt=\"if\" width=\"150\" style=\"margin:auto\">\n"
   ]
  },
  {
   "cell_type": "code",
   "execution_count": null,
   "metadata": {
    "slideshow": {
     "slide_type": "subslide"
    }
   },
   "outputs": [],
   "source": [
    "class TestSwitch {\n",
    "\n",
    "    public static void main(String[] args) {\n",
    "\n",
    "        int x = 1;\n",
    "        int k;\n",
    "        \n",
    "        switch ( x ) {\n",
    "            case 0:  k = 1; break;\n",
    "            case 1:\n",
    "            case 3:  System.out.println(\"Cierta opción...\"); k = -17;\n",
    "            case 2:\n",
    "            case 4:  k = -24; break;\n",
    "            case 5:  k = 5; break;\n",
    "            default: k = -1; break;\n",
    "        };\n",
    "        \n",
    "        System.out.println(\"k = \" + k);\n",
    "    } // main\n",
    "}\n",
    "\n",
    "TestSwitch.main(null);"
   ]
  },
  {
   "cell_type": "markdown",
   "metadata": {
    "slideshow": {
     "slide_type": "subslide"
    }
   },
   "source": [
    "### 2.3.3. Sentencias iterativas \n",
    "\n",
    "#### Con condición inicial"
   ]
  },
  {
   "cell_type": "markdown",
   "metadata": {
    "slideshow": {
     "slide_type": "fragment"
    }
   },
   "source": [
    "`while`:\n",
    "\n",
    "```java\n",
    "while ( condicion ) {\n",
    "    instrucciones;\n",
    "}\n",
    "```\n",
    "<div><img src=\"figuras/while.svg\" alt=\"if\" width=\"250\"  style=\"margin:auto\"></div>\n",
    "\n"
   ]
  },
  {
   "cell_type": "code",
   "execution_count": null,
   "metadata": {
    "slideshow": {
     "slide_type": "subslide"
    }
   },
   "outputs": [],
   "source": [
    "int x = 20;\n",
    "int z = 0;\n",
    "while ( x > 7 ) {\n",
    "    z++;\n",
    "    x -= 2;\n",
    "}\n",
    "System.out.println(\"x = \" + x);\n",
    "System.out.println(\"z = \" + z);\n"
   ]
  },
  {
   "cell_type": "markdown",
   "metadata": {
    "slideshow": {
     "slide_type": "subslide"
    }
   },
   "source": [
    "#### Con condición final\n",
    "\n",
    "`do-while`:\n",
    "\n",
    "```java\n",
    "do {\n",
    "    instrucciones;\n",
    "} while ( condicion );\n",
    "```\n",
    "<img src=\"figuras/do-while.svg\" alt=\"if\" width=\"200\" style=\"margin:auto\">\n",
    "\n",
    "\n"
   ]
  },
  {
   "cell_type": "code",
   "execution_count": null,
   "metadata": {
    "slideshow": {
     "slide_type": "subslide"
    }
   },
   "outputs": [],
   "source": [
    "int x = 50;\n",
    "int y = 10;\n",
    "do {\n",
    "    x += 23;\n",
    "    y++;\n",
    "} while ( x < 144 );\n",
    "System.out.println(\"x = \" + x);\n",
    "System.out.println(\"y = \" + y);\n"
   ]
  },
  {
   "cell_type": "markdown",
   "metadata": {
    "slideshow": {
     "slide_type": "subslide"
    }
   },
   "source": [
    "#### Bucles for\n",
    "\n",
    "```java\n",
    "for ( inicialización; condición; finalización ) {\n",
    "    instrucciones;\n",
    "}\n",
    "```\n",
    "\n",
    "Equivalencia con bucle while:\n",
    "\n",
    "```java\n",
    "inicialización\n",
    "while (condicion) {\n",
    "    instrucciones;\n",
    "    finalización;\n",
    "}    \n",
    "\n",
    "```\n",
    "\n",
    "\n",
    "<img src=\"figuras/for.svg\" alt=\"if\" width=\"250\"  style=\"margin:auto\">"
   ]
  },
  {
   "cell_type": "code",
   "execution_count": null,
   "metadata": {},
   "outputs": [],
   "source": [
    "int j = 0;\n",
    "int i;\n",
    "for ( i = 0; i < 20; i++ ) {\n",
    "    j += i;\n",
    "}\n",
    "System.out.println(\"j = \" + j + \", i: \"+ i);"
   ]
  },
  {
   "cell_type": "code",
   "execution_count": null,
   "metadata": {
    "slideshow": {
     "slide_type": "subslide"
    }
   },
   "outputs": [],
   "source": [
    "int j = 0;\n",
    "for ( int i = 0; i < 20; i++ ) {\n",
    "    j += i;\n",
    "}\n",
    "//System.out.println(\"j = \" + j + \", i: \"+ i); // i no es accesible: declarada dentro de bucle\n",
    "System.out.println(\"j = \" + j);"
   ]
  },
  {
   "cell_type": "markdown",
   "metadata": {
    "slideshow": {
     "slide_type": "subslide"
    }
   },
   "source": [
    "#### Iterador\n",
    "\n",
    "\n",
    "```java\n",
    "for ( <tipo> variable : coleccion ) {\n",
    "    instrucciones;\n",
    "}\n",
    "```\n",
    "\n",
    "\n",
    "\n",
    "<img src=\"figuras/for-iterator.svg\" alt=\"if\" width=\"250\"  style=\"margin:auto\">\n"
   ]
  },
  {
   "cell_type": "code",
   "execution_count": null,
   "metadata": {
    "slideshow": {
     "slide_type": "fragment"
    }
   },
   "outputs": [],
   "source": [
    "ArrayList<Integer> lista = new ArrayList<Integer>( );\n",
    "lista.add( new Integer( 7 ) );\n",
    "lista.add( new Integer( 8 ) );\n",
    "for ( Integer n : lista ) {\n",
    "    System.out.println( \"Elemento: \" + n.toString( ) );\n",
    "}"
   ]
  },
  {
   "cell_type": "markdown",
   "metadata": {
    "slideshow": {
     "slide_type": "subslide"
    }
   },
   "source": [
    "#### Saltos incondicionales:\n",
    "- `break`: fuerza terminación de bucle o rama de switch.\n",
    "- `break etiqueta`: fuerza terminación de bucle encabezado con\n",
    "`etiqueta`.\n",
    "- `continue`: fuerza nueva iteración de bucle\n",
    "- `continue etiqueta`: fuerza nueva iteración del bucle encabezado\n",
    "con `etiqueta`.\n",
    "- `return [<valor>]`: sale de la función (y retorna valor)\n",
    "- `exit( <codigo_retorno> )`: sale del programa (y devuelve código)"
   ]
  },
  {
   "cell_type": "code",
   "execution_count": null,
   "metadata": {
    "slideshow": {
     "slide_type": "subslide"
    }
   },
   "outputs": [],
   "source": [
    "externo: for (i=1; i<10; i++) {\n",
    "    System.out.println(\"i = \" + i);\n",
    "    interno: for (j=1; j<20; j++) {\n",
    "        System.out.println(\"j = \" + j);\n",
    "        if (i%3==0) {\n",
    "            System.out.println(\"... continue externo (desde bucle interno): i%3\");\n",
    "            continue externo;\n",
    "        } else if (j%7 == 0) {\n",
    "            System.out.println(\"--- break (desde bucle interno): j%7\");\n",
    "            break; \n",
    "        } else if (i+j==10) {\n",
    "            System.out.println(\"+++ break externo (desde bucle interno): i+j=10\");\n",
    "            break externo;\n",
    "        }        \n",
    "        System.out.println(\"Nueva iteración bucle interno\");\n",
    "    }\n",
    "    System.out.println(\"Nueva iteración bucle externo\");\n",
    "}\n",
    "System.out.println(\"Fin bucles\")"
   ]
  },
  {
   "cell_type": "markdown",
   "metadata": {},
   "source": [
    "**<div style=\"font-size:28px; color:blue\">EJERCICIO 2.2</div>**"
   ]
  },
  {
   "cell_type": "markdown",
   "metadata": {},
   "source": [
    "- Declárese e inicialícese un array de enteros denominado `primos`con los cinco primeros números primos (número primo: número que tiene, al menos, **dos** divisores: el 1 no es primo).\n",
    "\n",
    "    Imprímanse en pantalla utilizando una estructura de control de tipo `for` considerando la longitud del vector (propiedad `.length`)"
   ]
  },
  {
   "cell_type": "markdown",
   "metadata": {},
   "source": [
    "- Declárese y cárguese en un array de reales (determínese el tipo más adecuado: si `float` o `double` en función del contexto), denominado `ln_primos`, los logaritmos neperianos o naturales \n",
    " de los cinco primeros números primos (que están ya en el array `primos` del _snippet_ anterior\n",
    " \n",
    " (La función `Math.log(<REAL_DOBLE_PRECISION>)`, como por ejemplo `Math.log(3.7)` devuelve el $ln(3.7)$ o logaritmo nepeariano o natural de `3.7`. \n",
    "     - Cuestión: ¿sería necesario algún _casting_ si el argumento del `Math.log(.)` es un entero?"
   ]
  },
  {
   "cell_type": "markdown",
   "metadata": {},
   "source": [
    "- Diséñese un método que permita calcular el máximo de dos números denominado `maximo`. Se desea que el mismo método sea aplicable para\n",
    "cuando los argumentos sean de cualquier tipo numérico `<TIPO>` sin necesidad de realizar ningún _casting_ explícito.\n",
    "\n",
    "Verifíquese ejecutando las siguientes invocaciones:\n",
    "```java\n",
    "<TIPO> maximo (<TIPO> a, <TIPO> b) {\n",
    "  // Diseño del método    \n",
    "}\n",
    "\n",
    "System.out.println( maximo(3, 7) );\n",
    "System.out.println( maximo(-32.4, 7) );\n",
    "System.out.println( maximo(32.4, 7f) );\n",
    "```\n"
   ]
  },
  {
   "cell_type": "markdown",
   "metadata": {},
   "source": [
    "- Diséñese un método que en función de un argumento entero, el resultado sea un _String_ correspondiente al día de \n",
    "la semana: `1` -> `\"lunes\"`, `2` -> `\"martes\"`, ... `7` -> `\"domingo\"`, empleando internamente la estructura de control de selección múltiple `switch`\n",
    "\n",
    "    ```java\n",
    "    String dia_semana(int numero) {\n",
    "      ... // Devolver \"lunes\" si numero = 1\n",
    "      ... // Devolver \"martes\" si numero = 2\n",
    "      ...\n",
    "    }\n",
    "\n",
    "    System.out.println(dia_semana(2));\n",
    "    System.out.println(dia_semana(5));\n",
    "\n",
    "    ```\n",
    "    Si como resultado de la compilación se genera un error debido a la falta de inicialización de alguna variable, realícese dicha inicialización con cualquier valor que resulte oportuno.\n"
   ]
  },
  {
   "cell_type": "markdown",
   "metadata": {},
   "source": [
    "- Repítase el mismo ejercicio pero con otra estrategia de diseño:\n",
    "    - El nombre del nuevo método será `dia_semana_2`\n",
    "    - Dentro del método, cárguense los siete strings de los días de la semana en un array de Strings\n",
    "    - Indéxese dicho array con el número del día de la semana con una consideración importante\n",
    "        - El primer elemento de un array se indexa con 0"
   ]
  },
  {
   "cell_type": "markdown",
   "metadata": {},
   "source": [
    "**<div style=\"font-size:20px; color:blue\">FIN EJERCICIO 2.2</div>**"
   ]
  },
  {
   "cell_type": "markdown",
   "metadata": {},
   "source": [
    "### IMPORTANTE\n",
    "\n",
    "Existen numerosos sitios con contenido formativo sobre lenguajes de programación como Java. Entre ellos podemos citar algunos como [W3Schools](https://www.w3schools.com) o [sololearn](https://www.sololearn.com), en ocasiones con opciones _free_, o _freemiumn_.\n",
    "\n",
    "\n",
    "Se sugiere que se utilicen estos sitios web como herramientas tanto de aprendizaje complementario como de autocontrol de conocimiento sobre el lenguaje de programación que nos ocupa, que es Java.\n",
    "\n",
    "Cualquier duda que surja durante la elaboración de estos tests puede preguntarse al profesor.\n"
   ]
  },
  {
   "cell_type": "code",
   "execution_count": null,
   "metadata": {},
   "outputs": [],
   "source": []
  }
 ],
 "metadata": {
  "celltoolbar": "Slideshow",
  "kernelspec": {
   "display_name": "Java",
   "language": "java",
   "name": "java"
  },
  "language_info": {
   "codemirror_mode": "java",
   "file_extension": ".jshell",
   "mimetype": "text/x-java-source",
   "name": "Java",
   "pygments_lexer": "java",
   "version": "18.0.2.1+1-1"
  }
 },
 "nbformat": 4,
 "nbformat_minor": 4
}
