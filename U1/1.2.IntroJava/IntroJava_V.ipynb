{
 "cells": [
  {
   "cell_type": "markdown",
   "metadata": {
    "slideshow": {
     "slide_type": "slide"
    }
   },
   "source": [
    "\n",
    "\n",
    "### Índice\n",
    "\n",
    "<div style=\"text-align:center; font-size:24px\">Introducción a Java</div>\n",
    "\n",
    "\n",
    "1. Introducción\n",
    "2. Repaso introductorio de Java\n",
    "3. **Clases y objetos**  \n",
    "   3.1. Conceptos básicos  \n",
    "   3.2. Paquetes _(packages)_       \n",
    "   3.3. <a href=#herencia>**Herencia de clases**</a>  \n",
    "   3.4. <a href=#excepciones>**Excepciones**</a>  \n",
    "   3.5. <a href=#modificadores>**Modificadores**</a>   \n",
    "   3.6. Interfaces   \n",
    "   3.7. Polimorfismo   \n",
    "   3.8. Genericidad   \n",
    "   3.9. Clases anidadas   \n",
    "   3.10. Funciones lambda   \n",
    "   3.11. Programación multihilo   \n",
    "   3.12. Anotaciones   \n",
    "   3.13. Javadoc   \n",
    "4. Ficheros `.jar`  \n",
    "\n",
    "(Parte V)"
   ]
  },
  {
   "cell_type": "markdown",
   "metadata": {
    "slideshow": {
     "slide_type": "slide"
    }
   },
   "source": [
    "<div id=\"herencia\"></div>\n",
    "\n",
    "## [3.3. Herencia de clases](#Índice)"
   ]
  },
  {
   "cell_type": "markdown",
   "metadata": {
    "slideshow": {
     "slide_type": "subslide"
    }
   },
   "source": [
    "#### Conceptos básicos de herencia en Java\n",
    "- Intención inicial: aprovechamiento de clases **ya diseñadas**:\n",
    "    - Reutilización de software ya diseñado y supuestamente comprobado\n",
    "    - Reescribiéndolas: para su mejora o modificación\n",
    "    - Ampliándolas: para añadir nuevas funcionalidades\n",
    "    - **IMPORTANTE**: la esencia de la clase _debería_ permanecer con la herencia    "
   ]
  },
  {
   "cell_type": "markdown",
   "metadata": {
    "slideshow": {
     "slide_type": "subslide"
    }
   },
   "source": [
    "    \n",
    "#### ¿Quién hereda de quién?\n",
    "    \n",
    "- La clase **hija** *(subclase)* hereda *todos* los **miembros** (heredables)  desde una **única** clase **padre** *(superclase)*.\n",
    "    - En otros lenguajes de programación se puede heredar simultáneamente de dos o más clases, pero esto **no** ocurre en Java.\n",
    "- Un objeto de la clase **hija** también lo es de la clase **padre** y de todas las clases **antecesoras** ya que posee todos sus atributos y métodos (*heredables*) de sus _ancestros_ por herencia sucesiva.\n",
    "\n",
    "#### Sintaxis\n",
    "```java\n",
    "[<MODIFICADORES>] class <NOMBRE_CLASE_HIJA> extends <NOMBRE_CLASE_PADRE> { \n",
    "    ...\n",
    "}\n",
    "```    "
   ]
  },
  {
   "cell_type": "markdown",
   "metadata": {
    "slideshow": {
     "slide_type": "subslide"
    }
   },
   "source": [
    "#### ¿Cuándo una clase es _heredable_ y cuándo lo es un miembro de una clase _heredable_?\n",
    "\n",
    "- Cuando la clase a heredar sea **accesible** de forma _relativa_\n",
    "    \n",
    "- Cuando el miembro de la clase a heredar sea **accesible** de forma _relativa_\n",
    "\n",
    "- Esta accesibilidad _relativa_ viene marcada por los **modificadores de acceso** que se estudiarán posteriormente.\n",
    "\n"
   ]
  },
  {
   "cell_type": "markdown",
   "metadata": {
    "slideshow": {
     "slide_type": "subslide"
    }
   },
   "source": [
    "#### ¿Qué NO se hereda?\n",
    "\n",
    "- Si una clase no es _relativamente_ accesible no se puede extender o heredar\n",
    "- Si la clase es accesible, entonces se heredan aquellos miembros (atributos y métodos) cuyos modificadores **no** lo permitan (se verán más adelante).\n",
    "- Los constructores **no** se heredan: habrá que crearlos explícitamente para la nueva clase hija.\n",
    "    - El constructor de la clase hija se puede _apoyar_ en otros constructores de la misma clase hija o también de la clase padre:\n",
    "        - Recordemos que el constructor de una clase puede llamar a una sobrecarga de un constructor de la propia clase utilizando \n",
    "            ```java\n",
    "            this( <PARAMETROS_QUE_DETERMINAN_SOBRECARGA> )\n",
    "            ```\n",
    "        - El constructor de una clase también puede llamar a alguna sobrecarga que exista del constructor de la clase padre o *superclase* explícitamente con \n",
    "            ```java\n",
    "            super(<PARAMETROS_QUE_DETERMINAN_SOBRECARGA>)\n",
    "            ```                \n",
    "        - La invocación a `this(...)` o `super(...)`, si aparecen, **debe ser la primera instrucción** del  constructor.\n",
    "            - Si no aparecen, se llama implícitamente, como primera instrucción del constructor, a la sobrecarga **sin parámetros** del constructor de la clase padre con `super()` (si esta sobrecarga no existiera en el padre, se produciría un error en tiempo de compilación).\n",
    "        \n",
    "        "
   ]
  },
  {
   "cell_type": "markdown",
   "metadata": {
    "slideshow": {
     "slide_type": "subslide"
    }
   },
   "source": [
    "**Sobrescritura de miembros en la herencia:**\n",
    "    \n",
    "- **Sobrescritura** de métodos:\n",
    "> **IMPORTANTE**: no debe confundirse el concepto **sobrescritura** de métodos con **sobrecarga** de métodos    \n",
    "    - Cualquier método heredable puede sobrescribirse (aparición de método(s) con idéntica _firma_)\n",
    "> La firma de un método consiste en la combinación del nombre de método y los parámetros, no interviniendo el tipo de vuelta\n",
    "\n",
    "    en la clase hija, _cancelando_ la presencia del correspondiente método de la clase padre\n",
    "        \n",
    "        - Dentro de la clase hija puede hacerse mención **explícita** a métodos de la clase padre anteponiendo el prefijo `super` al método: `super.<METODO_CLASE_PADRE>(...);` (si es que es heredable/accesible).\n",
    "\n",
    "\n",
    "- **Sobrescritura** de atributos o propiedades:\n",
    "    - La sobrescritura de un atributo en la clase hija, _hace sombra_ al atributo de la clase padre con un matiz:\n",
    "        - El acceso al atributo (que al ser sobrescrito se denomina de igual manera en la clase padre que en la hija) es al de la clase padre o al de la clase hija según el método invocado.\n",
    "        - Dentro de una clase, se puede acceder explícitamente a un atributo de la clase padre anteponiendo el prefijo `super` a la propiedad en cuestión: `super.<ATRIBUTO>`.\n",
    "    > Esta acceso explícito no se puede hacer desde un objeto: \n",
    "    ```java\n",
    "    class ClaseHija extends ClasePadre { super.atributo_clase_padre ... }\n",
    "    ClaseHija hija = new ClaseHija(.);\n",
    "    hija.super.atributo_clase_padre ... ¡¡¡ERROR!!!\n",
    "    ```\n",
    "\n",
    "\n",
    "#### Resumen sobre sobrescritura de miembros: \n",
    "\n",
    "    \n",
    "- Respecto a los métodos _sobrescritos_    \n",
    "    - En la clase hija pueden existir métodos con idéntica firma (nombre y parámetros del método o función) que en el padre: **sobrescritura** de métodos.\n",
    "        - Los métodos de la clase hija son los que aplican a partir de ahoraa los objetos de la clase hija (y sus _derivados_: se explicitará más adelante con el _polimorfismo_)\n",
    "        - **Dentro de la clase hija** pueden hacerse mención explícita a métodos de la clase padre con el sufijo `super.<METODO_CLASE_PADRE>`(...), siempre y cuando sean heredables.\n",
    "    - Los permisos de acceso del método sobrescrito en la clase hija no pueden ser más restrictivos que los del padre    \n",
    "        -  `private` ->  &nbsp;&nbsp;&nbsp;&nbsp;  -> `protected` ->  `public` (de mayor a menor restricción)\n",
    "      \n",
    "      (Se verá más adelante en modificadores de acceso)     \n",
    "    \n",
    "- Respecto a los atributos _sobrescritos_    \n",
    "    - En la clase hija pueden existir atributos con el mismo nombre que atributos de la clase padre. Prevalecen aquellos que pertenecen al contexto de la ejecución del método que los referencia: \n",
    "        - Si el método pertenece a la clase padre, se referencia al atributo de la clase padre\n",
    "        - Si el método pertenece a la clase hija, se referencia al atributo de la clase hija\n",
    "        - Desde la clase hija pueden referenciarse explícitamente (si son heredables) los atributos de la clase padre mediante la sintaxis `super.<ATRIBUTO_CLASE_PADRE>`    "
   ]
  },
  {
   "cell_type": "markdown",
   "metadata": {
    "slideshow": {
     "slide_type": "subslide"
    }
   },
   "source": [
    "**Acceso a miembros**\n",
    "\n",
    "**Acceso** a método o atributo de la clase actual desde la propia clase actual (la clase actual es potencialmente clase hija o subclase de alguna clase padre):  `[this.]metodo(·)` o `[this.]atributo` \n",
    "\n",
    "(`this` es opcional a no ser que se emplee para evitar alguna ambigüedad)\n",
    "- Toda clase hereda implícitamente de la clase `Object` una serie de métodos\n",
    "    - Véase https://docs.oracle.com/javase/10/docs/api/java/lang/Object.html\n",
    "\n",
    "\n",
    "\n",
    "**Acceso** desde de la clase actual (subclase o clase hija en su caso) a método o atributo de la clase padre o *superclase*:\n",
    "- Si un `metodo(.)` o `atributo` se sobreescribe en el hijo, entonces para referenciar al del padre (diferenciándolo de el del hijo): `super.metodo(·)` o `super.atributo`\n",
    "    - No se puede acceder a ningún atributo o método de un *abuelo* o *ancestro anterior* ni desde un objeto ni desde la clase hija que se está extendiendo: a lo sumo se puede acceder a atributos del padre (con prefijo `super` si se ha sobrescrito; si no se ha sobrescrito, no es necesario el prefijo).\n",
    "    - El acceso al atributo del hijo puede hacerse como `[this.]metodo(.)` o `[this.]atributo` se sobrescriba o no.\n",
    "- No se puede acceder a un método/atributo de una superclase através de un `objeto` de la subclase: <br>\n",
    "`objeto.super.metodo(·)` u `objeto.super.atributo`: error\n",
    "\n"
   ]
  },
  {
   "cell_type": "markdown",
   "metadata": {
    "slideshow": {
     "slide_type": "subslide"
    }
   },
   "source": [
    "\n",
    "#### Sobrescritura de los constructores en clase hija:\n",
    "- Recuérdese que los constructores no se heredan\n",
    "- Aunque no se hereden, puede haber **sobrescritura** de los constructores del padre (mismo número y tipo de parámetros)\n",
    "    - Se sugiere que se emplee la **anotación** `@Override`\n",
    "- Idénticas consideraciones que las de la sobrescritura de métodos.\n"
   ]
  },
  {
   "cell_type": "markdown",
   "metadata": {},
   "source": [
    "**v15: herencia**\n",
    "\n",
    "\n",
    "<div ><img style=\"margin:auto\" src=\"figuras/herenciaSombra.svg\" alt=\"if\" width=\"800\"></div>"
   ]
  },
  {
   "cell_type": "markdown",
   "metadata": {
    "slideshow": {
     "slide_type": "subslide"
    }
   },
   "source": [
    "#### Ejemplos de herencia"
   ]
  },
  {
   "cell_type": "code",
   "execution_count": null,
   "metadata": {
    "vscode": {
     "languageId": "java"
    }
   },
   "outputs": [],
   "source": [
    "public class Vector2D {\n",
    "    \n",
    "    private double x, y;\n",
    "    \n",
    "    public Vector2D(double x, double y) { // CONSTRUCTOR\n",
    "        // Llamada implícita a super() de Object, pues Vector2D no hereda de nadie;\n",
    "        this.x = x;\n",
    "        this.y = y;\n",
    "    }\n",
    "    \n",
    "    // Creación de un vector 2D nulo\n",
    "    public Vector2D() { // CONSTRUCTOR\n",
    "        this(0., 0.);\n",
    "    }\n",
    "    \n",
    "    // Devuelve la componente x\n",
    "    public double getX() {\n",
    "        return x;\n",
    "    }\n",
    "    \n",
    "    // Devuelve la componente y\n",
    "    public double getY() {\n",
    "        return y;\n",
    "    }\n",
    "    \n",
    "    // Devuelve el módulo del vector\n",
    "    public double modulo() {\n",
    "        return Math.sqrt( this.x*this.x + this.y*this.y );\n",
    "    }\n",
    "    \n",
    "    // Devuelve un string con las componentes x e y separadas por coma\n",
    "    public String secuencia() {\n",
    "        return this.x + \", \" + this.y;\n",
    "    }\n",
    "    \n",
    "    // Devuelve un string con el formato \"(<SEC>)\" con <SEC> = \"x, y\"\n",
    "    public String toString() {\n",
    "        return \"(\" + this.secuencia() + \")\";\n",
    "    }\n",
    "    \n",
    "    // Devuelve un string con el formato \"|(<SEC>)|\" con <SEC> = \"x, y\"\n",
    "    public String toModuloString() {\n",
    "        return \"|\" + this + \"|\";  // Este this es realmente this.toString(), que es \"(<SEC>)\" al concatenarse con el String \"|\"\n",
    "    }\n",
    "    \n",
    "}\n",
    "\n"
   ]
  },
  {
   "cell_type": "code",
   "execution_count": null,
   "metadata": {
    "vscode": {
     "languageId": "java"
    }
   },
   "outputs": [],
   "source": [
    "Vector2D v2D = new Vector2D(3,4);\n",
    "System.out.println(\"Vector v2D: \" + v2D);\n",
    "System.out.println(v2D.toModuloString() + \" = \" + v2D.modulo() ); \n",
    "\n",
    "System.out.println(\"componente x: \" + v2D.getX());\n"
   ]
  },
  {
   "cell_type": "code",
   "execution_count": null,
   "metadata": {
    "slideshow": {
     "slide_type": "subslide"
    },
    "vscode": {
     "languageId": "java"
    }
   },
   "outputs": [],
   "source": [
    " // ¡¡¡ERROR!!!: como Vector2D es pública, Vector3D NO debería tener acceso más restrictivo\n",
    " //public \n",
    " class Vector3D extends Vector2D { \n",
    "    // hereda de Vector2D todos sus atributos y métodos hereadables:\n",
    "    // double getX()\n",
    "    // double getY()\n",
    "    // double modulo(): como se sobreescribe aquí, para acceder a él: super.modulo()\n",
    "    // String secuencia(): como se sobreescribe aquí, para acceder a él: super.secuencia()\n",
    "    // String toString(): no se sobreescribe aquí, se puede acceder sin ambigüedad con toString()\n",
    "    // String toModuloString(): no se sobreescrique aquí, se puede acceder sin ambigüedad con toModuloString()\n",
    "\n",
    "    double z;\n",
    "    \n",
    "    public Vector3D(double x, double y, double z) { // CONSTRUCTOR\n",
    "        super(x, y);  // Invocación a constructor de Vector2D con sobrecarga (double, double)\n",
    "        this.z = z;\n",
    "    }\n",
    "    \n",
    "    public Vector3D() { // CONSTRUCTOR\n",
    "        // Llamada implícita a super(): que es Vector2D() que equivale a Vector2D(0., 0.)\n",
    "        // Si no existiera sobrcarga de constructor Vector2D(): error\n",
    "        z = 0;\n",
    "    }\n",
    "    \n",
    "    public double getZ() {\n",
    "        return z;\n",
    "    }\n",
    "    \n",
    "    // Re-aprovechamiento: reescritura del método modulo\n",
    "    /* public */  // ¡¡¡ERROR!!! si no es public\n",
    "    double modulo() {\n",
    "        // Math.sqrt( x*x + y*y + z*z ) = Math.sqrt( Math.sqrt(x*x + y*y) * Math.sqrt(x*x + y*y) + z*z )\n",
    "        // = Math.sqrt( super.modulo() * super.modulo() + z*z )\n",
    "        // Aprovechamiento de metodo modulo del padre: super.modulo\n",
    "        return Math.sqrt( super.modulo() * super.modulo() + z*z);\n",
    "    }\n",
    "    \n",
    "    // Reescritura de método secuencia: devuelve el string <SEC> = super.<SEC>+\", z\" = \"x, y, z\"\n",
    "    public String secuencia() {\n",
    "        return super.secuencia() + \", \" + z;\n",
    "    }\n",
    "    \n",
    "    // El método String toString() heredado es perfectamente válido: no hace falta actualizarlo si reescribimos correctamente el método String secuencia().\n",
    "}"
   ]
  },
  {
   "cell_type": "code",
   "execution_count": null,
   "metadata": {
    "slideshow": {
     "slide_type": "subslide"
    },
    "vscode": {
     "languageId": "java"
    }
   },
   "outputs": [],
   "source": [
    "\n",
    "\n",
    "Vector3D v3D = new Vector3D(2,4,4);\n",
    "System.out.println(\"Vector v3D: \" + v3D);\n",
    "System.out.println( v3D.toModuloString() + \" = \" + v3D.modulo() );\n",
    "\n",
    "Vector3D v3D_nulo = new Vector3D();\n",
    "System.out.println(\"Vector v3D_nulo: \" + v3D_nulo);\n",
    "System.out.println( v3D_nulo.toModuloString() + \" = \" + v3D_nulo.modulo() );\n"
   ]
  },
  {
   "cell_type": "markdown",
   "metadata": {},
   "source": [
    "<div id=\"excepciones\"></div>\n",
    "\n",
    "## [3.5. Excepciones](#Índice)\n"
   ]
  },
  {
   "cell_type": "markdown",
   "metadata": {},
   "source": [
    "## ¿Qué son las excepciones?\n",
    "\n",
    "- Control de flujo _superpuesto_ al del programa, que __se dispara__ cuando ocurre algún tipo de error o excepción\n",
    "    - La intención es intentar controlar el programa a pesar de posibles errores o intentar recuperarse de los mismos, si es que es posible\n",
    "- Una excepción es un objeto instanciado de cierta clase que hereda primigeniamente de la clase `Exception`\n",
    "- Las clases ya disponibles en Java poseen ya las clases oportunas de excepciones, si es que son necesarias\n",
    "    - Podemos generar nuestras propias excepciones en las clases generadas por nosotros mismos."
   ]
  },
  {
   "cell_type": "markdown",
   "metadata": {},
   "source": [
    "- Esquema `try-catch-finally`:\n",
    "\n",
    "```java\n",
    "try {\n",
    "    \n",
    "    // Instrucciones donde se pueden producir excepciones\n",
    "        \n",
    "} catch ( ClaseExcepcion1 e1 ) {\n",
    "    \n",
    "    // Tratamiento de la excepción de clase ClaseExcepcion1\n",
    "    \n",
    "} catch ( ClaseExcepcion2 e2 ) {\n",
    "    \n",
    "    // Tratamiento de la excepción de clase ClaseExcepcion2\n",
    "    \n",
    "} catch ( ClaseException3 | ClaseExcepcion4 | ClaseExcepcion5 e345 ) {\n",
    "        \n",
    "    // Tratamiento de la excepción de clase ClaseExcepcion3, ClaseExcepcion4 o ClaseExcepcion5\n",
    "\n",
    "} finally {\n",
    "    \n",
    "    // Instrucciones a ejecutar SIEMPRE; tanto:\n",
    "    //   - si ocurre alguna excepción en algún bloque catch, en cuyo caso:\n",
    "    //     - No se ejecutará <SIGUIENTES_INSTRUCCIONES_JAVA>: se retorna\n",
    "    //       a quien haya invocado al presente método\n",
    "    //         - Deberá tratarse en algún bloque catch de quien haya \n",
    "    //           invocado al presente método    \n",
    "    //   - si no ocurre ninguna excepcion en el bloque try, en cuyo caso:\n",
    "    //       - A continuación, se ejecutarán las instrucciones <SIGUIENTES_INTRUCCIONES_JAVA>\n",
    "    //   - si ocurre alguna excepción en el bloque try, en cuyo caso\n",
    "    //       - A continuación, se ejecutarán las instrucciones <SIGUIENTES_INTRUCCIONES_JAVA>\n",
    "\n",
    "}            \n",
    "\n",
    "<SIGUIENTES_INSTRUCCIONES_JAVA>\n",
    "```"
   ]
  },
  {
   "cell_type": "markdown",
   "metadata": {},
   "source": [
    "En la siguiente figura se muestra la secuencia de instrucciones que se ejecutan cuando **no** ocurre ninguna excepción:\n",
    "\n",
    "<br>\n",
    "<br>\n",
    "\n",
    "<div ><img style=\"margin:auto\" src=\"figuras/Excepciones1.svg\" alt=\"if\" width=\"600\"></div>\n",
    "\n",
    "\n",
    "<br>\n",
    "<br>\n",
    "\n",
    "En la siguiente, se muestra las secuencia de instrucciones cuando hay una excepción en un bloque _try_:\n",
    "\n",
    "<br>\n",
    "<br>\n",
    "\n",
    "<div ><img style=\"margin:auto\" src=\"figuras/Excepciones2.svg\" alt=\"if\" width=\"600\"></div>\n",
    "\n",
    "\n",
    "<br>\n",
    "<br>\n",
    "\n",
    "\n",
    "Y en la siguiente, cuando la excecpión ocurre en el propio bloque de tratamiento de la excepción o bloque _catch_:\n",
    "\n",
    "<br>\n",
    "<br>\n",
    "\n",
    "<div ><img style=\"margin:auto\" src=\"figuras/Excepciones3.svg\" alt=\"if\" width=\"600\"></div>\n",
    "\n",
    "\n",
    "<br>\n",
    "<br>\n",
    "\n"
   ]
  },
  {
   "cell_type": "markdown",
   "metadata": {},
   "source": [
    "#### Sin tratamiento de excepciones: `throws`\n",
    "Si un método que contiene instrucciones que potencialmente pueden lanzar excepciones, no las trata todas por completo, debe *lanzar* las que no trate para que las trate el *invocante* con la siguiente sintaxis:\n",
    "```java\n",
    "public void metodo() throws IOException, ArrayIndexOutOfBoundsException {\n",
    "    ... // Aquí, IOException y ArrayIndexOutOfBoundsException no se tratan. Pueden tratarse otras, pero estas, no.\n",
    "}\n",
    "```"
   ]
  },
  {
   "cell_type": "markdown",
   "metadata": {},
   "source": [
    "**v16: excepciones**\n"
   ]
  },
  {
   "cell_type": "markdown",
   "metadata": {
    "slideshow": {
     "slide_type": "slide"
    }
   },
   "source": [
    "<div id=\"modificadores\"></div>\n",
    "\n",
    "## [3.5. Modificadores](#Índice)"
   ]
  },
  {
   "cell_type": "markdown",
   "metadata": {
    "slideshow": {
     "slide_type": "fragment"
    }
   },
   "source": [
    "- Modificación que puede hacerse a una **clase**, o a un **_miembro de una clase_** respecto a:\n",
    "    - El tipo permitido de acceso (lectura y escritura o no acceso) a dicho recurso (clase o miembro): **modificadores de control de acceso**\n",
    "    - Otras características de dicho recurso: **modificadores de NO acceso**\n",
    "    - En la especificación sintáctica, el orden de los modificadores es indiferente"
   ]
  },
  {
   "cell_type": "markdown",
   "metadata": {
    "slideshow": {
     "slide_type": "subslide"
    }
   },
   "source": [
    "#### Modificadores de acceso: \n",
    "\n",
    "- Para **clases**:\n",
    "    - `public`\n",
    "    - *default* (sin modificador)\n",
    "    \n",
    "- Para **miembros** (métodos, atributos, clases internas, ...)\n",
    "    - `public`\n",
    "    - `private`\n",
    "    - *default* (sin modificador)\n",
    "    - `protected`"
   ]
  },
  {
   "cell_type": "markdown",
   "metadata": {
    "slideshow": {
     "slide_type": "subslide"
    }
   },
   "source": [
    "#### Modificadores de no-acceso\n",
    "\n",
    "- Para **clases**\n",
    "    - `final`\n",
    "    - `abstract`\n",
    "- Para **miembros** (métodos, atributos, clases internas, ...)\n",
    "    - `final`\n",
    "    - `abstract`\n",
    "    - `static`\n",
    "    - `transient`\n",
    "    - `synchronized`\n",
    "    - `volatile`\n",
    "    - `strictfp`"
   ]
  },
  {
   "cell_type": "markdown",
   "metadata": {
    "slideshow": {
     "slide_type": "subslide"
    }
   },
   "source": [
    "### 3.5.1. Modificadores de acceso\n",
    "\n",
    "- Valores: \n",
    "    - `public`: *recurso* accesible desde cualquier clase\n",
    "    - `protected`: *recurso* accesible desde la propia clase, desde cualquier clase *extendida* de esta y desde cualquier clase perteneciente al paquete\n",
    "    - Sin modificador (valor por defecto): *recurso* accesible desde la propia clase y desde cualquier otra clase perteneciente al mismo paquete. También denominado **modificador de acceso por paquete** o **de acceso privado fuera de paquete**\n",
    "    - `private`: *recurso* accesible sólo desde la propia clase\n",
    "\n",
    "- Aplicables a: \n",
    "    - **clases**: `public` y *sin modificador*\n",
    "    - **clases internas**, **atributos**, **métodos** y **constructores**: `public`, `protected`, *sin modificador* y `private` \n",
    "\n",
    "> **IMPORTANTE**: \n",
    ">\n",
    "> Aunque una clase sea *accesible*, puede que algún constructor, método o atributo no lo sea: debe tenerse muy en cuenta.\n",
    "> - ... y al revés:\n",
    "    - Puede que algún miembro de cierta clase sea _\"accesible\"_, pero si la clase no lo es, el miembro en cuestión, al final no lo será."
   ]
  },
  {
   "cell_type": "markdown",
   "metadata": {
    "slideshow": {
     "slide_type": "subslide"
    }
   },
   "source": [
    "#### Cuadro sinóptico\n",
    "\n",
    "|    |  Accesible desde la<br>misma clase | Accesible desde otra clase<br>del mismo paquete | Accesible desde una subclase<br>de otro paquete | Accesible desde otra clase<br>de otro paquete |\n",
    "|---:| :-----------------------:|:-----------------------:              |:-----------------------:              |:-----------------------:|\n",
    "| `public`   | X | X | X | X |\n",
    "| `protected`| X | X | X |   |\n",
    "| (sin modificador -por defecto-: *por paquete*<br>o *privada fuera de paquete*)| X|  X | | |\n",
    "| `private`  | X |   |    |  |"
   ]
  },
  {
   "cell_type": "markdown",
   "metadata": {},
   "source": [
    "La siguiente figura marca (en **rojo**) los accesos **no permitidos** hacia ciertas clases y ciertos miembros de clases.\n",
    "- Las clases `ClaseA` (sin modificador de acceso), `ClaseB` (pública) y `ClaseC` están en el paquete `paquete1`\n",
    "    - La clase `ClaseA` tiene un atributo/metodo de cada tipo, así como la clase `B`\n",
    "    - Dentro del mismo paquete (`paquete1`), desde cualquier clase se puede acceder a cualquier miembro de cualquier clase perteneciente al paquete, siempre y cuando no sea `private`\n",
    "- Las Clases `ClaseD` y `ClaseE` están en el paquete `paquete2`\n",
    "    - Solo pueden acceder a clases (o heredar de clases) que pertenezcan a otros paquetes, siempre y cuando estas sean `public`\n",
    "        - Solo pueden acceder a los miembros `publicos`\n",
    "        - Si heredan de una clase pública de otro paquete, además, los miembros `protected` son accesibles.\n",
    "\n",
    "<br>\n",
    "<br>\n",
    "\n",
    "<div ><img style=\"margin:auto\" src=\"figuras/modificadoresDeAcceso.svg\" alt=\"if\" width=\"800\"></div>\n",
    "\n",
    "\n",
    "<br>\n",
    "<br>"
   ]
  },
  {
   "cell_type": "markdown",
   "metadata": {
    "slideshow": {
     "slide_type": "subslide"
    }
   },
   "source": [
    "### 3.5.2. Modificadores de NO acceso\n",
    "\n",
    "#### 3.5.2.1. Modificadores de NO acceso para clases\n",
    "\n",
    "##### Modificador de no acceso para clases `final`:\n",
    "\n",
    "- Una clase `final` ya no se puede extender.\n",
    "\n",
    "```java\n",
    "final public class A {\n",
    "    ...\n",
    "}        \n",
    "\n",
    "public class B extends A {  ¡¡¡ERROR!!!\n",
    "    ...\n",
    "}\n",
    "```\n",
    "\n",
    "\n",
    "##### Modificador de no acceso para clases `abstract`:\n",
    "\n",
    "- Una clase `abstract` no se puede instanciar.\n",
    "\n",
    "\n",
    "```java\n",
    "abstract public class A {\n",
    "    ...\n",
    "}\n",
    "\n",
    "A objeto = new A(); // ¡¡¡ERROR!!!\n",
    "```    \n",
    "    \n",
    "- Una clase debe ser obligatoriamente declarada `abstract` si posee algún método `abstract`\n",
    "    - Un método `abstract` es un método que no tiene implementación solo tipo de vuelta, nombre y parámetros.    \n",
    "\n",
    "```java\n",
    "abstract public class A {\n",
    "    ...\n",
    "    abstract public void f(); // <- obliga a que la clase deba ser abstract\n",
    "    ...\n",
    "}\n",
    "\n",
    "public class B extends A {\n",
    "    ...\n",
    "    public void f() { (* IMPLEMENTACION */ }\n",
    "    ...                       \n",
    "}                       \n",
    "\n",
    "A obj_A = new A(); // ¡¡¡ERROR!!!\n",
    "B obj_B = new B(); // ¡OK!                       \n",
    "``` "
   ]
  },
  {
   "cell_type": "markdown",
   "metadata": {
    "slideshow": {
     "slide_type": "subslide"
    }
   },
   "source": [
    "#### 3.5.2.2. Modificadores de NO acceso para miembros\n",
    "\n",
    "##### Modificador de no-acceso para miembros `static`: \n",
    "\n",
    "- No es necesario instanciar ningún objeto de la clase para acceder a un _miembro estático_ de la propia clase: se puede utilizar _\"directamente\"_.\n",
    "\n",
    "- Podemos encontrarnos con:\n",
    "\n",
    "    - Atributos o variables estáticas (también denominadas _variables o atributos de clase_):\n",
    "        - Existe sólo una copia de la variable estática entre todos los objetos instanciados de la clase.\n",
    "            - Dicho de otro modo: es la misma variable para todos los objetos\n",
    "    - Clases anidadas estáticas (se estudiarán más adelante)\n",
    "    - Métodos estáticos\n",
    "\n",
    "- Sintaxis para acceder a una variable estática `variable`, clase anidada estática `Clase_anidada` o método estático `metodo`, cualquiera de ellos, miembros estáticos de la clase `Clase`: \n",
    "    - `Clase.variable`\n",
    "    - `Clase.Clase_anidada`\n",
    "    - `Clase.metodo(·)`\n",
    "\n",
    "> Obsérvese cómo no es necesario _\"partir de un objeto\"_ para llegar a un miembro del mismo como en `objeto.variable`, `objeto.Clase_anidad` u `objeto.metodo(.)`, si no que se hace directamente partiendo de la clase: `Clase.variable`, `Clase.Clase_anidada` u `Clase.metodo(.)`. Realmente se está accediendo a un miembro de clase (no de objeto) porque es el mismo para todos los objetos, es decir, para la clase.\n",
    "\n",
    "**MUY Importante**: un miembro (variable, clase anidada o método) estático sólo puede acceder a recursos estáticos\n",
    "\n",
    "\n",
    "**v17: contador de objetos: atributo estático y metodo estático**\n",
    "\n"
   ]
  },
  {
   "cell_type": "markdown",
   "metadata": {
    "slideshow": {
     "slide_type": "subslide"
    }
   },
   "source": [
    "##### Modificadores de no acceso para miembros: `final`\n",
    "\n",
    "Indicación de que ya no puede sobreescribirse (la clases, el método o el atributo al que modifica)\n",
    "\n",
    "- Una **clase** `final` no pueden extenderse\n",
    "- **Métodos** final:\n",
    "    - No podrán sobrescribirse en una herencia \n",
    "- En atributos (**variables** final):\n",
    "    - Ya no podría modificarse el valor: es la forma de especificar una **constante** en Java\n",
    "    - Existe solo una copia de la variable final entre todos los objetos de la clase (siimilar al caso estático).\n",
    "    - Debe declararse el valor (constante) de la variable final:\n",
    "        - O en la declaración del atributo o variable\n",
    "        ```java\n",
    "            public class Clase {\n",
    "                ...\n",
    "                final double a = 9.81;\n",
    "                ...\n",
    "            }\n",
    "        ```\n",
    "        - O asignarle un valor en el constructor\n",
    "        ```java\n",
    "            public class Clase {\n",
    "                ...\n",
    "                final double a;\n",
    "                ...\n",
    "                public Clase( ... ) {  // constructor\n",
    "                    ...\n",
    "                    a = 9.81;\n",
    "                    ...\n",
    "                }\n",
    "                ...\n",
    "        ```\n"
   ]
  },
  {
   "cell_type": "markdown",
   "metadata": {
    "slideshow": {
     "slide_type": "subslide"
    }
   },
   "source": [
    "##### Modificadores de no acceso para miembros (solo métodos): `abstract`\n",
    "\n",
    "- Métodos *abstractos*:\n",
    "    - Métodos sin implementar: queda pendiente su implementación en las clases *hijas*\n",
    "    - La presencia de un método abstracto en una clase obliga a que la clase sea también abstracta (y por tanto, no instanciable)\n",
    "        - Las subclases o clases hijas de la clase donde está el método abstracto deben proporcionar la implementación del método abstracto, de lo contrario, deberán seguir declarándose como abstractas con todas sus consecuencias."
   ]
  },
  {
   "cell_type": "markdown",
   "metadata": {
    "slideshow": {
     "slide_type": "subslide"
    }
   },
   "source": [
    "**v18: clases y métodos abstractos**"
   ]
  },
  {
   "cell_type": "markdown",
   "metadata": {
    "slideshow": {
     "slide_type": "subslide"
    }
   },
   "source": [
    "##### Modificadores de no acceso para miembros: `synchronized`, `volatile`, `transient`  y `strictfp`\n",
    "\n",
    "- `synchronized`: ejecución de método `synchronized` (o bloque de código `synchronized`) bloquea acceso a objeto\n",
    "    - Utilizado con `Threads`\n",
    "- `volatile`: control de acceso y actualización en variables compartidas por varios *threads*\n",
    "- `transient`: los métodos o atributos `transient` no forman parte de la *serialización* del objeto\n",
    "- `strictfp`: cumplimiento de estándar de aritmética en coma flotante IEEE-754"
   ]
  },
  {
   "cell_type": "markdown",
   "metadata": {
    "slideshow": {
     "slide_type": "subslide"
    }
   },
   "source": [
    "#### Ejemplo sintáctico genérico (el concepto de interfaces todavía está no visto: `implements...`)\n",
    "\n",
    "```java\n",
    "[ ] [ public ] [ abstract | final ] class <CLASE> [ extends <CLASE_PADRE> ] [ implements <INTERFAZ_1> [, <INTERFAZ_2> [,...] ] ] {\n",
    "\n",
    "    // Bloque inicializador\n",
    "    { <INSTRUCCIONES> }\n",
    "    \n",
    "    // Declaración de atributos o propiedades\n",
    "    [ <ACCESO> ] [ final ] [ static ] <TIPO>  <NOMBRE_VARIABLE> [ = <VALOR_INICIAL> ];\n",
    "    [ <ACCESO> ] [ final ] [ static ] <CLASE> <NOMBRE_OBJETO>   [ = <VALOR_INICIAL> ];\n",
    "\n",
    "    ...\n",
    "    \n",
    "    // Declaración de constructor(es)\n",
    "    [ <ACCESO> ] <CLASE> ( <ARGUMENTOS ) {\n",
    "        [ super(<ARGS1>); | super(); | this(<ARGS2>); ] // Si no se emplea ninguno, uso implícito de super(); \n",
    "        <instrucciones>;\n",
    "    } // Constructor\n",
    "    \n",
    "    ...\n",
    "    \n",
    "    // Declaración de clase interna\n",
    "    [ <ACCESO> ]  [ abstract | final ] [static] class <NOMBRE_CLASE_ANIDADA> [ extends <SUPER_CLASE> ] [ implements <OTRA_INTERFAZ_1> [, <OTRA_INTERFAZ_2> [,...] ] ] {\n",
    "        // Declaración de la clase interna\n",
    "    }\n",
    "    \n",
    "    ...\n",
    "        \n",
    "    // Declaración de interfaz interna\n",
    "    [ <ACCESO> ]  [static] interface <NOMBRE_INTERFAZ_ANIDADA> [ extends <OTRA_INTERFAZ_1> [, <OTRA_INTERFAZ_2> [,...] ] ] {\n",
    "        // Declaración de la interfaz\n",
    "    }    \n",
    "        \n",
    "    ...    \n",
    "    \n",
    "    // Declaración de métodos\n",
    "    [ <ACCESO> ] [ abstract | final ] [static] <TIPO> <NOMBRE_METODO> ( <ARGUMENTOS> ) {\n",
    "        <instrucciones>;\n",
    "    } // metodo\n",
    "    ...\n",
    "    \n",
    "} // Clase\n",
    "\n",
    "// con [ <ACCESO> ] = [ public | protected | [ ] | private ] \n",
    "```"
   ]
  }
 ],
 "metadata": {
  "celltoolbar": "Slideshow",
  "kernelspec": {
   "display_name": "Java",
   "language": "java",
   "name": "java"
  },
  "language_info": {
   "codemirror_mode": "java",
   "file_extension": ".jshell",
   "mimetype": "text/x-java-source",
   "name": "Java",
   "pygments_lexer": "java",
   "version": "18.0.2.1+1-1"
  }
 },
 "nbformat": 4,
 "nbformat_minor": 4
}
