{
 "cells": [
  {
   "cell_type": "markdown",
   "metadata": {
    "slideshow": {
     "slide_type": "-"
    }
   },
   "source": [
    "### Índice\n",
    "\n",
    "<div style=\"text-align:center; font-size:24px\">Introducción a Java</div>\n",
    "\n",
    "1. Introducción\n",
    "2. **Variables, expresiones y control de flujo**    \n",
    "    2.1. <a href=\"#var\">**Variables, objetos, literales y constantes**</a>    \n",
    "    2.2. Operadores, expresiones y comentarios   \n",
    "    2.3. Control de flujo  \n",
    "3. Clases y objetos\n",
    "4. Otros aspectos del lenguaje\n",
    "5. Ficheros `.jar`\n",
    "\n",
    "(Parte II)"
   ]
  },
  {
   "cell_type": "markdown",
   "metadata": {
    "slideshow": {
     "slide_type": "-"
    }
   },
   "source": [
    "<div id=\"variables\"></a>\n",
    "\n",
    "# [2. Variables, expresiones y control de flujo](#Índice)"
   ]
  },
  {
   "cell_type": "markdown",
   "metadata": {
    "slideshow": {
     "slide_type": "-"
    }
   },
   "source": [
    "<div id=\"var\"></div>\n",
    "\n",
    "## [2.1. Variables, objetos, literales y constantes](#Índice)"
   ]
  },
  {
   "cell_type": "markdown",
   "metadata": {
    "slideshow": {
     "slide_type": "-"
    }
   },
   "source": [
    "### 2.1.1. Variables (y objetos)\n",
    "\n",
    "#### Variables:\n",
    "\n",
    "Correspondientes a **tipos primitivos**: \n",
    "- Numéricos (con signo: positivos y negativos): \n",
    "    - Enteros: `byte`, `short`, `int`, `long`\n",
    "    - Reales o coma flotante: `float`, `double`\n",
    "- Booleanos: `boolean`\n",
    "- Alfabéticos: `char`\n",
    "\n",
    "La información se almacena en cierta cantidad de bytes: desde 1 (`byte`) hasta 8 (`double` y `long`)"
   ]
  },
  {
   "cell_type": "markdown",
   "metadata": {
    "slideshow": {
     "slide_type": "-"
    }
   },
   "source": [
    "#### Rangos y valores de variables de tipos primitivos y sus *wrappers* correspondientes\n",
    "\n",
    "|Tipo     |Tamaño<br>(bits)   |   Mínimo                       |   min$$abs(.)$$  | Máximo                          |  Wrapper<br>(envoltorio)  |\n",
    "| :--:    | :----:             |   :--:                         |  :--:         | :--:                            |  :----:   |\n",
    "| `byte`    |  $$8$$                | $$−128$$                       | $$0$$             |  $$127$$                       |  `Byte`     |\n",
    "| `short`   | $$16$$                | $$−32\\,768= −2^{15}$$          | $$0$$             |  $$32\\,767 = 2^{15}-1$$         |  `Short`    |\n",
    "| `int`     | $$32$$                | $$−2\\,147\\,483\\,648 = −2^{31}$$ | $$0$$             | $$2\\,147\\,483\\,647 = 2^{31}−1$$ |  `Integer`  |\n",
    "| `long`    | $$64$$                | $$−9\\,223\\,372\\,036\\,854\\,775\\,808=-2^{63}$$ | $$0$$ | $$9\\,223\\,372\\,036\\,854\\,775\\,807=2^{63}-1$$ |     `Long` |\n",
    "| `float`   | $$32$$                | $$−3{,}4\\cdot10^{38}$$ | $$1{,}4\\cdot10^{−45}$$|  $$3{,}4\\cdot10^{38}$$ | `Float` |\n",
    "| `double`  | $$64$$                | $$−1{,}8\\cdot10^{308}$$ |  $$4{,}9\\cdot10^{−324}$$   | $$1{,}8\\cdot10^{308}$$ | `Double` |\n",
    "| `boolean` | ?                 | `false`                 |  -                     | `true`  | `Boolean` |\n",
    "| `char`    | $$16$$                | Unicode UTF-16: $0$ ='\\u0000'   |  -                     | Unicode UTF-16: $65\\,535$ ='\\uFFFF' | `Character` |\n",
    "| `void`    | -                 | -                       | -                      | -  | `Void`  |\n",
    "\n"
   ]
  },
  {
   "cell_type": "markdown",
   "metadata": {
    "slideshow": {
     "slide_type": "-"
    }
   },
   "source": [
    "#### Objetos:\n",
    "\n",
    "- Estructuras de información que contienen **miembros** de dos clases:\n",
    "    - **Propiedades**: valores (variables de tipo primitivo) u otros objetos\n",
    "    - **Métodos**: funciones\n",
    "- Hay tipos primitivos a partir de los cuales se crean objetos: *wrappers* o envoltorios    \n",
    "    - `byte` -> `Byte`\n",
    "    - `int` -> `Integer`\n",
    "    - ...\n",
    "    \n",
    "<br>\n",
    "<br>\n",
    "    \n",
    "    \n",
    "    \n",
    "<div ><img style=\"margin:auto\" src=\"figuras/bolsa.svg\" alt=\"if\" width=\"250\"></div>"
   ]
  },
  {
   "cell_type": "markdown",
   "metadata": {
    "slideshow": {
     "slide_type": "-"
    }
   },
   "source": [
    "Una **variable primitiva** tiene ya predefinidos:\n",
    "- El conjunto de valores posibles\n",
    "- Las operaciones con todos los valores posibles\n",
    "- Ejemplo: números enteros de 8 bits, es decir, el tipo (primitivo) `byte`:\n",
    "    - Rango de valores: -127..128\n",
    "    - Operaciones: `+`, `-`, `*`, `/`, `%`, `<<`, `>>`, ...\n",
    "\n",
    "En un **objeto** correspondiente a una clase _nueva_ diseñada por el programador, pueden diseñarse ambas cosas:\n",
    "- El conjunto de valores posibles\n",
    "- Las operaciones con todos los valores posibles\n",
    "- Ejemplo: una paleta de colores del arco iris\n",
    "    - Rango de valores (notación especial...): `Color.ROJO`, `Color.NARANJA`, `Color.AMARILLO`, `Color.VERDE`, `Color.AZUL`, `Color.AÑIL`, `Color.VIOLETA`.\n",
    "    - Operaciones: \n",
    "        - `Sumar(Color.ROJO, Color.AMARILLO)` -> `Color.NARANJA`\n",
    "        - `Sumar(Color.AZUL, Color.AMARILLO)` -> `Color.VERDE`\n",
    "        - ¿Operación `Restar`?\n",
    "        - ¿Otras operaciones?\n",
    "        - ???\n"
   ]
  },
  {
   "cell_type": "markdown",
   "metadata": {
    "slideshow": {
     "slide_type": "-"
    }
   },
   "source": [
    "#### Declaración de una variable primitiva o de tipo primitivo\n",
    "\n",
    "```java\n",
    "[<MODIFICADOR>] <TIPO> <NOMBRE_VARIABLE> [ = <VALOR_INICIAL> ] ;\n",
    "```\n",
    "\n",
    "#### Declaración de un objeto\n",
    "\n",
    "```java\n",
    "[<MODIFICADOR>] <CLASE> <NOMBRE_OBJETO> [ = new <CLASE>(<PARAMETROS>) ] ;\n",
    "```\n",
    "\n"
   ]
  },
  {
   "cell_type": "markdown",
   "metadata": {
    "slideshow": {
     "slide_type": "-"
    }
   },
   "source": [
    "#### Notación:\n",
    "- `<CONCEPTO>`: identifica el concepto que representa\n",
    "- `[  ]`: indica opcionalidad (puede omitirse completamente). Con el ejemplo anterior:\n",
    "    ```java\n",
    "    <TIPO> <NOMBRE_VARIABLE> = <VALOR_INICIAL> ;\n",
    "    ```\n",
    "    O bien:\n",
    "    ```\n",
    "    <TIPO> <NOMBRE_VARIABLE> ;\n",
    "    ```\n",
    "    O bien:\n",
    "    ```java\n",
    "    <MODIFICADOR> <TIPO> <NOMBRE_VARIABLE> = <VALOR_INICIAL> ;\n",
    "    ```\n",
    "    O bien:\n",
    "    ```\n",
    "    <MODIFICADOR> <TIPO> <NOMBRE_VARIABLE> ;\n",
    "    ```\n",
    "- `|`: indica alternativa"
   ]
  },
  {
   "cell_type": "code",
   "execution_count": null,
   "metadata": {
    "slideshow": {
     "slide_type": "-"
    },
    "vscode": {
     "languageId": "java"
    }
   },
   "outputs": [],
   "source": [
    "byte    b = 16;\n",
    "short   s = 1234;\n",
    "char    c = 'w';\n",
    "int     i = 98765;\n",
    "float   f = 0;\n",
    "double  d = 9.7;\n",
    "boolean k = false;\n",
    "\n",
    "System.out.println(\"byte: \"    + b);\n",
    "System.out.println(\"short: \"   + s);\n",
    "System.out.println(\"char: \"    + c); \n",
    "System.out.println(\"int: \"     + i);\n",
    "System.out.println(\"float: \"   + f);\n",
    "System.out.println(\"double: \"  + d); \n",
    "System.out.println(\"boolean: \" + k); \n"
   ]
  },
  {
   "cell_type": "markdown",
   "metadata": {
    "slideshow": {
     "slide_type": "-"
    }
   },
   "source": [
    "### Nota aclaratoria sobre escritura en pantalla\n",
    "\n",
    "- Se emplea la instrucción `System.out.println( <ARGUMENTO> )`, que será explicada posteriormente\n",
    "- De momento, téngase en cuenta solo los siguientes detalles:\n",
    "    - El argumento de `System.out.println( <ARGUMENTO> )` puede ser cualquier variable u objeto de cualquier tipo o clase\n",
    "    - En los ejemplos se observará la estructura: `System.out.println(\"hola \" +  <VARIABLE> )`\n",
    "        - Un string literal se muestra encerrado entre comillas dobles: `\"hola \"`\n",
    "        - Como se explicará posteriormente, el operador `+` que aparece **no** realiza ninguna _suma_ algebraica cuando uno de los operandos es un _string_; lo que hace es concatenar el string literal `\"hola \"` con la conversión a string de `<VARIABLE>`, resultando al final un string más largo: este es el que se imprime en pantalla.\n",
    "        - Así, por ejemplo, en el caso del _snippet_ anterior:\n",
    "        ```java\n",
    "        double x = 9.7;\n",
    "        System.out.println(\"hola \" + x);\n",
    "        ```\n",
    "        se imprime el string `hola ` y a continuación, concatenadamente, el valor numérico de x, es decir la salida sería `hola 9.7`\n",
    "- Como anticipación adicional, recuérdese que todas la instrucciones de Java deben terminarse con el signo de punto y coma `;`.        \n",
    "- El sangrado de las instrucciones es solo a nivel estético o visual: no aporta estructura de control o ejecución tal y como ocurre en **Python**.\n",
    "\n",
    "        "
   ]
  },
  {
   "cell_type": "markdown",
   "metadata": {
    "slideshow": {
     "slide_type": "-"
    }
   },
   "source": [
    "#### Tipos `short` y `char`: ambos 2 bytes ¿por qué?\n",
    "\n",
    "- Requieren mismo almacenamiento: 16 bits\n",
    "- Interpretan el contenido de manera diferente:\n",
    "    - `short`: información numérica\n",
    "    - `char`: información alfabética"
   ]
  },
  {
   "cell_type": "markdown",
   "metadata": {
    "slideshow": {
     "slide_type": "-"
    }
   },
   "source": [
    "Codificaciones del caracter UNICODE LATIN SMALL LETTER N WITH TILDE' (U+00F1): ñ\n",
    "\n",
    "http://www.fileformat.info/info/unicode/char/f1/index.htm"
   ]
  },
  {
   "cell_type": "code",
   "execution_count": null,
   "metadata": {
    "slideshow": {
     "slide_type": "-"
    },
    "vscode": {
     "languageId": "java"
    }
   },
   "outputs": [],
   "source": [
    "\n",
    "char j ='\\u00F1'; // Caracter Unicode ñ\n",
    "char k = 241;\n",
    "char l = 'ñ';\n",
    "System.out.println(\"j: \" + j);\n",
    "System.out.println(\"k: \" + k);\n",
    "System.out.println(\"l: \" + l);\n",
    "\n",
    "System.out.println();\n",
    "\n",
    "short m ='\\u00F1'; // Caracter Unicode ñ\n",
    "short n = 241;\n",
    "short o = 'ñ';\n",
    "System.out.println(\"m: \" + m);\n",
    "System.out.println(\"n: \" + n);\n",
    "System.out.println(\"o: \" + o);\n"
   ]
  },
  {
   "cell_type": "markdown",
   "metadata": {
    "slideshow": {
     "slide_type": "-"
    }
   },
   "source": [
    "### Sinopsis:\n",
    "\n",
    "- Tipos de variables (**primitivas**) de tipo numérico:\n",
    "    - `byte`\n",
    "    - `short`\n",
    "    - `int`\n",
    "    - `long`\n",
    "    - `float`\n",
    "    - `double`\n",
    "- Tipo de variables (**primitivas**) de tipo alfabético:\n",
    "    - `char`\n",
    "- Tipo de variables (**primitivas**) de tipo lógico o booleano:\n",
    "    - `boolean`"
   ]
  },
  {
   "cell_type": "markdown",
   "metadata": {
    "slideshow": {
     "slide_type": "-"
    }
   },
   "source": [
    "### Boxing/unboxing, *wrappers*, ...\n",
    "\n",
    "- Creación de objetos alrededor de un tipo primitivo (empaquetamientoo o envoltorio de un primitivo en un objeto): *boxing* o *wrapper* \n",
    "    - `byte` &#x1f852; `Byte`\n",
    "    - `short` &#x1f852; `Short`\n",
    "    - `char` &#x1f852; `Character`\n",
    "    - `int`&#x1f852; `Integer`\n",
    "    - `long` &#x1f852; `Long`\n",
    "    - `float` &#x1f852; `Float`\n",
    "    - `double` &#x1f852; `Double`\n",
    "    - `boolean` &#x1f852; `Boolean`\n",
    "\n",
    "- **_Unboxing_**: conversión inversa"
   ]
  },
  {
   "cell_type": "code",
   "execution_count": null,
   "metadata": {
    "slideshow": {
     "slide_type": "-"
    },
    "vscode": {
     "languageId": "java"
    }
   },
   "outputs": [],
   "source": [
    "// Boxing\n",
    "Double x;          // Objeto\n",
    "double y = 10.0;   // variable primitiva\n",
    "\n",
    "x = y; // Double <- double   (boxing o wrapping)\n",
    "System.out.println(\"y = \" + y + \", x = \" + x);"
   ]
  },
  {
   "cell_type": "code",
   "execution_count": null,
   "metadata": {
    "vscode": {
     "languageId": "java"
    }
   },
   "outputs": [],
   "source": [
    "// Unboxing\n",
    "Double x = new Double(0.5); // creación de un objeto de la clase Double: se estudiará posteriormente\n",
    "double y = x; // double <- Double (unboxing o unwrapping)\n",
    "System.out.println(\"y = \" + y + \", x = \" + x);"
   ]
  },
  {
   "cell_type": "markdown",
   "metadata": {},
   "source": [
    "- Propiedades en _envoltorios_ o _wrappers_ numéricos:\n",
    "    - `.MIN_VALUE`\n",
    "    - `.MAX_VALUE`\n",
    "    - `.SIZE`"
   ]
  },
  {
   "cell_type": "code",
   "execution_count": null,
   "metadata": {
    "vscode": {
     "languageId": "java"
    }
   },
   "outputs": [],
   "source": [
    "\n",
    "// Valore numéricos mínimos, máximos y tamaño en bits\n",
    "\n",
    "System.out.println(\"Byte.MIN_VALUE: \"   + Byte.MIN_VALUE);\n",
    "System.out.println(\"Byte.MAX_VALUE: \"   + Byte.MAX_VALUE);\n",
    "System.out.println(\"Byte.SIZE (bits): \" + Byte.SIZE + '\\n');\n",
    "\n",
    "System.out.println(\"Short.MIN_VALUE: \"   + Short.MIN_VALUE);\n",
    "System.out.println(\"Short.MAX_VALUE: \"   + Short.MAX_VALUE);\n",
    "System.out.println(\"Short.SIZE (bits): \" + Short.SIZE + '\\n');\n",
    "\n",
    "// La clase Character no es explícitamente numérica\n",
    "System.out.println(\"Character.MIN_VALUE: \"   + Character.MIN_VALUE);  // carácter con menor ordinal\n",
    "System.out.println(\"Character.MAX_VALUE: \"   + Character.MAX_VALUE);  // carácter con mayor ordinal\n",
    "System.out.println(\"Character.SIZE (bits): \" + Character.SIZE + '\\n');\n",
    "\n",
    "System.out.println(\"Character.MIN_VALUE: \"   + (int)Character.MIN_VALUE);\n",
    "System.out.println(\"Character.MAX_VALUE: \"   + (int)Character.MAX_VALUE);\n",
    "System.out.println(\"Character.SIZE (bits): \" + Character.SIZE + '\\n');\n",
    "\n",
    "System.out.println(\"Integer.MIN_VALUE: \"   + Integer.MIN_VALUE);\n",
    "System.out.println(\"Integer.MAX_VALUE: \"   + Integer.MAX_VALUE);\n",
    "System.out.println(\"Integer.SIZE (bits): \" + Integer.SIZE + '\\n');\n",
    "\n",
    "System.out.println(\"Long.MIN_VALUE: \"   + Long.MIN_VALUE);\n",
    "System.out.println(\"Long.MAX_VALUE: \"   + Long.MAX_VALUE);\n",
    "System.out.println(\"Long.SIZE (bits): \" + Long.SIZE + '\\n');\n",
    "\n",
    "System.out.println(\"Float.MIN_VALUE: \"   + Float.MIN_VALUE);\n",
    "System.out.println(\"Float.MAX_VALUE: \"   + Float.MAX_VALUE);\n",
    "System.out.println(\"Float.SIZE (bits): \" + Float.SIZE + '\\n');\n",
    "\n",
    "System.out.println(\"Double.MIN_VALUE: \"   + Double.MIN_VALUE);\n",
    "System.out.println(\"Double.MAX_VALUE: \"   + Double.MAX_VALUE);\n",
    "System.out.println(\"Double.SIZE (bits): \" + Double.SIZE + '\\n');\n"
   ]
  },
  {
   "cell_type": "markdown",
   "metadata": {},
   "source": [
    "### 2.1.2 _Casting_\n",
    "\n",
    "- Conversión explícita de un tipo a otro\n",
    "- Uso:\n",
    "    - Indicación explícita de asunción de posible pérdida de precisión\n",
    "    - Conversión indicando entre paréntesis el tipo destino\n",
    "        - Ejemplo:\n",
    "            - `<VARIABLE_TIPO_A> = (<TIPO_A>) <VARIBLE_TIPO_B>;`\n",
    "            ```java\n",
    "            double x = 1.23;\n",
    "            int y;\n",
    "            y = (int) x;\n",
    "            ```\n",
    "    - Si no hay pérdida de precisión en la asignación, el _casting_ no es necesario\n",
    "        - Ejemplo:\n",
    "            ```java\n",
    "            double x;\n",
    "            int y = 5;\n",
    "            x = y;\n",
    "            ```\n",
    "    "
   ]
  },
  {
   "cell_type": "code",
   "execution_count": null,
   "metadata": {
    "vscode": {
     "languageId": "java"
    }
   },
   "outputs": [],
   "source": [
    "double x = 1.23;\n",
    "int y;\n",
    "y = x; // Pérdida potencial de precisión: ERROR\n",
    "\n",
    "System.out.println(\"x: \" + x);\n",
    "System.out.println(\"y: \" + y);"
   ]
  },
  {
   "cell_type": "code",
   "execution_count": null,
   "metadata": {
    "vscode": {
     "languageId": "java"
    }
   },
   "outputs": [],
   "source": [
    "double x = 1.23;\n",
    "int y;\n",
    "y = (int) x; // Asunción de la pérdida potencial de precisión.\n",
    "\n",
    "System.out.println(\"x: \" + x);\n",
    "System.out.println(\"y: \" + y);"
   ]
  },
  {
   "cell_type": "code",
   "execution_count": null,
   "metadata": {
    "vscode": {
     "languageId": "java"
    }
   },
   "outputs": [],
   "source": [
    "double x;\n",
    "int y = 3;\n",
    "x = y;\n",
    "\n",
    "System.out.println(\"x: \" + x);\n",
    "System.out.println(\"y: \" + y);"
   ]
  },
  {
   "cell_type": "markdown",
   "metadata": {},
   "source": [
    "#### Widening\n",
    "\n",
    "- Conversión primitiva expansiva *(widening)* o *promoción* a tipo superior: **no hay pérdida de información** en la conversión\n",
    "    - byte → short, int, long, float, double\n",
    "    - short → int, long, float, double\n",
    "    - char → int, long, float, double\n",
    "    - int → long, float, double\n",
    "    - long → float, double\n",
    "    - float → double\n",
    "\n",
    "#### Narrowing\n",
    "\n",
    "- Conversión primitiva compresiva *(narrowing)*\n",
    "    - short → byte, char\n",
    "    - char → byte, short\n",
    "    - int → byte, short, char\n",
    "    - long → byte, short, char, int\n",
    "    - float → byte, short, char, int, long\n",
    "    - double → byte, short, char, int, long, float\n",
    "\n",
    "    En este caso, se requiere *casting* por **pérdida potencial de precisión** en conversión\n",
    "        - Si no se realiza el *casting*: **error** en tiempo de compilación\n",
    "    \n",
    "\n"
   ]
  },
  {
   "cell_type": "markdown",
   "metadata": {},
   "source": [
    "### Conversiones implícitas\n",
    "\n",
    "#### Conversión en operaciones aritméticas de distintos tipos\n",
    "- Siempre se promocionan los tipos de menor precisión a tipos de mayor precisión:\n",
    "    - **Widening** implícito.\n",
    "    - Ejemplo: suma de un `byte` y un `int`: `(byte->int) + int` (_widening_ o promoción del `byte` a `int`)\n",
    "- Si la asignación del resultado implica _narrowing_: error\n",
    "    - Ejemplo:     \n",
    "        ```java\n",
    "        int y; \n",
    "        short x = y + y;\n",
    "        ```\n",
    "        `x` es `short` y el resultado de `y+y` es `int+int=int`, luego en la asignacíón ocurriría un _narrowing_ y por tanto, error.\n",
    "\n",
    "#### Conversión en invocación a método:\n",
    "\n",
    "- Cuando se invoca a un método, el tipo de los argumentos se _convierte_, si es necesario, al de los parámetros.\n",
    "    - En la conversión, se permite una operación de **_widening_**, pero **no** un **_narrowing_**"
   ]
  },
  {
   "cell_type": "code",
   "execution_count": null,
   "metadata": {
    "vscode": {
     "languageId": "java"
    }
   },
   "outputs": [],
   "source": [
    "class Invocacion_Metodo {\n",
    "    \n",
    "    static short f (int a, double b) {\n",
    "        return (short) (a+b);\n",
    "    }\n",
    "    \n",
    "    public static void main(String[] args) {\n",
    "        long x   = 1;\n",
    "        byte p1  = 2;    /* CÁMBIESE de tipo byte a tipo float y obsérvese consecuencias...*/\n",
    "        float p2 = 3.4f;\n",
    "        x = f( p1, p2 );  /* promoción automática de (byte)p1 -> (int)p1, y (float)p2 -> (double)p2 implícita */\n",
    "        System.out.println( \"x = \" + x );\n",
    "    }\n",
    "}\n",
    "\n",
    "Invocacion_Metodo.main(null)"
   ]
  },
  {
   "cell_type": "markdown",
   "metadata": {},
   "source": [
    "Detalles de conversión (http://docs.oracle.com/javase/specs/jls/se7/html/jls-5.html#jls-5):"
   ]
  },
  {
   "cell_type": "markdown",
   "metadata": {
    "slideshow": {
     "slide_type": "-"
    }
   },
   "source": [
    "### 2.1.3. Literales\n",
    "\n",
    "Valores *concretos* que pueden participar en expresiones o ser asignados a variables"
   ]
  },
  {
   "cell_type": "markdown",
   "metadata": {
    "slideshow": {
     "slide_type": "-"
    }
   },
   "source": [
    "#### Literales enteros\n",
    "\n",
    "\n",
    "\n",
    "- Todo literal entero es de tipo `int` (4 bytes). \n",
    "    - Formatos:\n",
    "        - Decimal\n",
    "        - Hexadecimal: `0x...`\n",
    "        - Binario: `0b...`\n",
    "        - Octal: `0...`\n",
    "\n",
    "    - Separador numérico opcional: `_`\n",
    "    \n",
    "\n",
    "| $$\\text{Literal}$$ | $$\\text{Valor}$$  |\n",
    "| ------: | :----- |\n",
    "| $$0$$       | $$0$$  |\n",
    "| $$4\\_345\\_789$$ | $$4345789$$ |\n",
    "| $$-3456$$     | $$-3456$$ |\n",
    "| $$2147483648$$ | ¡¡¡Error en compilacion!!! (Número muy grande) |\n",
    "| $$0\\text{x}123$$       | $$291$$| \n",
    "| $$0x\\text{D}4\\_\\text{f}2\\_11\\_0\\text{C}$$ | $$-722333428$$ |\n",
    "| $$0\\text{b}1101\\_0100\\_1111\\_0010\\_0001\\_0001\\_0000\\_1100$$ | $$-722333428$$ |\n",
    "| $$0\\text{b}11\\_010\\_100\\_111\\_100\\_100\\_001\\_000\\_100\\_001\\_100$$ | $$-722333428$$ |\n",
    "| $$032474410414$$  | $$-722333428$$ |\n",
    "| $$-042$$ | $$-34$$ |\n",
    "\n",
    "(Un entero binario negativo se codifica en _complemento a dos_: $-x=\\overline{x}+1$, denotando $\\overline{x}$ el _complemento a uno_ del número entero binario $x$. Un número entero binario codificado en complemento a dos que empieza por 1, es negativo.)\n"
   ]
  },
  {
   "cell_type": "code",
   "execution_count": null,
   "metadata": {
    "slideshow": {
     "slide_type": "-"
    },
    "vscode": {
     "languageId": "java"
    }
   },
   "outputs": [],
   "source": [
    "System.out.println(4_345_789)"
   ]
  },
  {
   "cell_type": "markdown",
   "metadata": {
    "slideshow": {
     "slide_type": "-"
    }
   },
   "source": [
    "Número entero **demasiado grande**:"
   ]
  },
  {
   "cell_type": "code",
   "execution_count": null,
   "metadata": {
    "slideshow": {
     "slide_type": "-"
    },
    "vscode": {
     "languageId": "java"
    }
   },
   "outputs": [],
   "source": [
    "System.out.println(2147483648)"
   ]
  },
  {
   "cell_type": "markdown",
   "metadata": {
    "slideshow": {
     "slide_type": "-"
    }
   },
   "source": [
    "Mayor número entero `int` (32 bits) representable **sin error**:"
   ]
  },
  {
   "cell_type": "code",
   "execution_count": null,
   "metadata": {
    "slideshow": {
     "slide_type": "-"
    },
    "vscode": {
     "languageId": "java"
    }
   },
   "outputs": [],
   "source": [
    "System.out.println(2147483647)"
   ]
  },
  {
   "cell_type": "markdown",
   "metadata": {
    "slideshow": {
     "slide_type": "-"
    }
   },
   "source": [
    "O más claramente con **separadores**:"
   ]
  },
  {
   "cell_type": "code",
   "execution_count": null,
   "metadata": {
    "slideshow": {
     "slide_type": "-"
    },
    "vscode": {
     "languageId": "java"
    }
   },
   "outputs": [],
   "source": [
    "System.out.println(2_147_483_647)"
   ]
  },
  {
   "cell_type": "markdown",
   "metadata": {
    "slideshow": {
     "slide_type": "-"
    }
   },
   "source": [
    "Formato **hexadecimal**:"
   ]
  },
  {
   "cell_type": "code",
   "execution_count": null,
   "metadata": {
    "slideshow": {
     "slide_type": "-"
    },
    "vscode": {
     "languageId": "java"
    }
   },
   "outputs": [],
   "source": [
    "System.out.println(0x123)"
   ]
  },
  {
   "cell_type": "markdown",
   "metadata": {
    "slideshow": {
     "slide_type": "-"
    }
   },
   "source": [
    "Formato hexadecimal con **separador**:"
   ]
  },
  {
   "cell_type": "code",
   "execution_count": null,
   "metadata": {
    "slideshow": {
     "slide_type": "-"
    },
    "vscode": {
     "languageId": "java"
    }
   },
   "outputs": [],
   "source": [
    "System.out.println(0xD4_f2_11_0C)"
   ]
  },
  {
   "cell_type": "markdown",
   "metadata": {
    "slideshow": {
     "slide_type": "-"
    }
   },
   "source": [
    "Formato **binario con separador**:"
   ]
  },
  {
   "cell_type": "code",
   "execution_count": null,
   "metadata": {
    "slideshow": {
     "slide_type": "-"
    },
    "vscode": {
     "languageId": "java"
    }
   },
   "outputs": [],
   "source": [
    "System.out.println(0b1101_0100_1111_0010_0001_0001_0000_1100)"
   ]
  },
  {
   "cell_type": "markdown",
   "metadata": {
    "slideshow": {
     "slide_type": "-"
    }
   },
   "source": [
    "Formato binario con separador **(separación arbitraria)**:"
   ]
  },
  {
   "cell_type": "code",
   "execution_count": null,
   "metadata": {
    "scrolled": true,
    "slideshow": {
     "slide_type": "-"
    },
    "vscode": {
     "languageId": "java"
    }
   },
   "outputs": [],
   "source": [
    "System.out.println(0b11_010_100_111_100_100_001_000_100_001_100)"
   ]
  },
  {
   "cell_type": "markdown",
   "metadata": {
    "slideshow": {
     "slide_type": "-"
    }
   },
   "source": [
    "Número binario **negativo** (el número binario original ya era negativo (bit más significativo a 1) -> positivo):"
   ]
  },
  {
   "cell_type": "code",
   "execution_count": null,
   "metadata": {
    "slideshow": {
     "slide_type": "-"
    },
    "vscode": {
     "languageId": "java"
    }
   },
   "outputs": [],
   "source": [
    "System.out.println(-0b11_010_100_111_100_100_001_000_100_001_100)"
   ]
  },
  {
   "cell_type": "markdown",
   "metadata": {
    "slideshow": {
     "slide_type": "-"
    }
   },
   "source": [
    "Número original:\n",
    "```\n",
    "11_010_100_111_100_100_001_000_100_001_100\n",
    "```\n",
    "Complemento a 2 (complemento a 1, más 1 -con acarreo-) :\n",
    "```\n",
    "00_101_011_000_011_011_110_111_011_110_011\n",
    "+                                        1\n",
    "__________________________________________\n",
    "00_101_011_000_011_011_110_111_011_110_100\n",
    "```\n"
   ]
  },
  {
   "cell_type": "code",
   "execution_count": null,
   "metadata": {
    "slideshow": {
     "slide_type": "-"
    },
    "vscode": {
     "languageId": "java"
    }
   },
   "outputs": [],
   "source": [
    "System.out.println(0b00_101_011_000_011_011_110_111_011_110_100)"
   ]
  },
  {
   "cell_type": "markdown",
   "metadata": {
    "slideshow": {
     "slide_type": "-"
    }
   },
   "source": [
    "Número **octal**: prefijo 0 (cero):"
   ]
  },
  {
   "cell_type": "code",
   "execution_count": null,
   "metadata": {
    "slideshow": {
     "slide_type": "-"
    },
    "vscode": {
     "languageId": "java"
    }
   },
   "outputs": [],
   "source": [
    "System.out.println(032474410414)"
   ]
  },
  {
   "cell_type": "markdown",
   "metadata": {
    "slideshow": {
     "slide_type": "-"
    }
   },
   "source": [
    "Número **octal negativo**:"
   ]
  },
  {
   "cell_type": "code",
   "execution_count": null,
   "metadata": {
    "slideshow": {
     "slide_type": "-"
    },
    "vscode": {
     "languageId": "java"
    }
   },
   "outputs": [],
   "source": [
    "System.out.println(-042)"
   ]
  },
  {
   "cell_type": "markdown",
   "metadata": {
    "slideshow": {
     "slide_type": "-"
    }
   },
   "source": [
    "\"*Dándole la vuelta al marcador*\": **overflow**:"
   ]
  },
  {
   "cell_type": "code",
   "execution_count": null,
   "metadata": {
    "slideshow": {
     "slide_type": "-"
    },
    "vscode": {
     "languageId": "java"
    }
   },
   "outputs": [],
   "source": [
    "System.out.println(2_147_483_647+1);\n",
    "System.out.println(2_147_483_647*2);\n",
    "System.out.println(2_147_483_647*1000);\n"
   ]
  },
  {
   "cell_type": "markdown",
   "metadata": {
    "slideshow": {
     "slide_type": "-"
    }
   },
   "source": [
    "Ilustración para *enteros de tres bits* (en vez de 8 bits, `byte`, o 16 bits, `short`. o 32 bits, `int`, o 64 bits `long`):\n",
    "\n",
    "<img src=figuras/overflow.svg alt=\"Overflow\" style=\"margin:auto\" width=\"200\">"
   ]
  },
  {
   "cell_type": "markdown",
   "metadata": {
    "slideshow": {
     "slide_type": "-"
    }
   },
   "source": [
    "Ilustración para *enteros de 32 bits* (`int`):\n",
    "\n",
    "<img src=figuras/overflow_int.svg alt=\"Overflow int\" style=\"margin:auto\" width=\"600\">"
   ]
  },
  {
   "cell_type": "markdown",
   "metadata": {
    "slideshow": {
     "slide_type": "-"
    }
   },
   "source": [
    "**Forzado** a tipo `long` (8 bytes) con sufijo `L` o `l` (cuidado con `l` por potencial confusión con `1`).\n",
    "\n",
    "|Literal         |     Valor   |\n",
    "| :-------------:|:-------------:|\n",
    "| $$0\\text{L}$$     |  $$0$$   |\n",
    "| $$4\\_345\\_789\\text{L}$$ | $$4345789$$ |\n",
    "| $$-3456\\text{l}$$     | $$-3456$$ |\n",
    "| $$2147483648\\text{L}$$ | $$2147483648$$ |\n",
    "| $$0\\text{x}123\\text{L}$$      | $$291$$ |\n",
    "| $$0\\text{xD}4\\_\\text{f}2\\_11\\_0\\text{Cl}$$ | $$3572633868$$ |\n",
    "| $$0\\text{xFFFF}\\_\\text{FFFF}\\_\\text{D}4\\_\\text{f}2\\_\\_\\_11\\_0\\text{CL}$$ |  $$-722333428$$ |\n",
    "| $$-0\\text{xFFFF}\\_\\text{FFFF}\\_\\text{D}4\\_\\text{f}2\\_\\_11\\_0\\text{CL}$$ | $$722333428$$ |\n",
    "| $$032474410414\\text{L}$$ | $$3572633868$$ |\n",
    "| $$-042\\text{L}$$ | $$-34$$ |"
   ]
  },
  {
   "cell_type": "markdown",
   "metadata": {
    "slideshow": {
     "slide_type": "-"
    }
   },
   "source": [
    "Ya se observó que el siguiente entero era _\"demasiado grande\"_ porque **no cabe** en 32 bits (`int`)..."
   ]
  },
  {
   "cell_type": "code",
   "execution_count": null,
   "metadata": {
    "slideshow": {
     "slide_type": "-"
    },
    "vscode": {
     "languageId": "java"
    }
   },
   "outputs": [],
   "source": [
    "System.out.println(2147483648)"
   ]
  },
  {
   "cell_type": "markdown",
   "metadata": {
    "slideshow": {
     "slide_type": "-"
    }
   },
   "source": [
    "Formato `long`: **cabe perfectamente** en 64 bits (`long`). Sufijo `l`/`L`"
   ]
  },
  {
   "cell_type": "code",
   "execution_count": null,
   "metadata": {
    "slideshow": {
     "slide_type": "-"
    },
    "vscode": {
     "languageId": "java"
    }
   },
   "outputs": [],
   "source": [
    "System.out.println(2147483648L);"
   ]
  },
  {
   "cell_type": "markdown",
   "metadata": {
    "slideshow": {
     "slide_type": "-"
    }
   },
   "source": [
    "**Literales enteros**: tipo forzado con *casting*\n",
    "\n",
    "Si tipo entero del literal (`int` o `long`) no es el tipo *destino*: *casting* obligatorio si hay pérdida de información y se desea **asumir**"
   ]
  },
  {
   "cell_type": "code",
   "execution_count": null,
   "metadata": {
    "vscode": {
     "languageId": "java"
    }
   },
   "outputs": [],
   "source": [
    "byte x = 291;  // Error: 291 no cabe en rango de byte: [-128..127]\n",
    "System.out.println(\"x: \" + x);"
   ]
  },
  {
   "cell_type": "code",
   "execution_count": null,
   "metadata": {
    "vscode": {
     "languageId": "java"
    }
   },
   "outputs": [],
   "source": [
    "byte x = (byte) 291;\n",
    "System.out.println(\"x: \" + x);\n",
    "// 291 en hexadecimal es 0x123, o en binario 0b0001_0010_0011\n",
    "// Con casting a byte se elimina lo que esté por encima del byte: \n",
    "//    0x123 = 0x1_23 --se elimina el 1_--> 0x23 = 35\n",
    "// o en binario\n",
    "//    0b001_0010_0011 -> 0b0010_0011 = 35\n",
    "// Se asume, por tanto, la pérdida de precisión (del 291 original al 35 defintivo)\n"
   ]
  },
  {
   "cell_type": "markdown",
   "metadata": {
    "slideshow": {
     "slide_type": "-"
    }
   },
   "source": [
    "**Literales reales** (en coma flotante)\n",
    "\n",
    "Todo literal en coma flotante es de tipo `double` (8 bytes). Ejemplos:\n",
    "\n",
    "| Literal | Valor |\n",
    "| ------: | :--: | \n",
    "| $$0.$$     | $$0,0$$ |\n",
    "|$$12\\_345.342\\_2\\text{e}\\!-\\!16$$ | $$1{,}23453422\\cdot10^{−12}$$ |\n",
    "| $$2.\\text{E}3$$    | $$2000{,}0$$ |\n",
    "| $$-.2\\text{E}\\!-\\!3$$ | $$−2{,}0\\cdot10^{−4}$$ |\n",
    "| $$2.\\text{e}3\\text{D}$$  | $$2000{,}0$$ |\n",
    "| $$.4\\text{E}\\!+\\!3\\text{d}$$ | $$400{,}0$$ |\n",
    "| $$1.\\text{e}39$$  | $$1{,}0\\cdot10^{39}$$ |\n",
    "| $$1.\\text{e}\\!-\\!100$$ | $${1,}0\\cdot10^{−100}$$ |\n",
    "\n",
    "A continuación: ejemplos con distintas posibilidades de formato"
   ]
  },
  {
   "cell_type": "code",
   "execution_count": null,
   "metadata": {
    "slideshow": {
     "slide_type": "-"
    },
    "vscode": {
     "languageId": "java"
    }
   },
   "outputs": [],
   "source": [
    "System.out.println(12_345.342_2e-16)"
   ]
  },
  {
   "cell_type": "code",
   "execution_count": null,
   "metadata": {
    "slideshow": {
     "slide_type": "-"
    },
    "vscode": {
     "languageId": "java"
    }
   },
   "outputs": [],
   "source": [
    "System.out.println(2.E3)"
   ]
  },
  {
   "cell_type": "code",
   "execution_count": null,
   "metadata": {
    "slideshow": {
     "slide_type": "-"
    },
    "vscode": {
     "languageId": "java"
    }
   },
   "outputs": [],
   "source": [
    "System.out.println(-.2E-3)"
   ]
  },
  {
   "cell_type": "code",
   "execution_count": null,
   "metadata": {
    "slideshow": {
     "slide_type": "-"
    },
    "vscode": {
     "languageId": "java"
    }
   },
   "outputs": [],
   "source": [
    "System.out.println(2.e3D)"
   ]
  },
  {
   "cell_type": "code",
   "execution_count": null,
   "metadata": {
    "slideshow": {
     "slide_type": "-"
    },
    "vscode": {
     "languageId": "java"
    }
   },
   "outputs": [],
   "source": [
    "System.out.println(.4E+3d)"
   ]
  },
  {
   "cell_type": "code",
   "execution_count": null,
   "metadata": {
    "slideshow": {
     "slide_type": "-"
    },
    "vscode": {
     "languageId": "java"
    }
   },
   "outputs": [],
   "source": [
    "System.out.println(1.e39)"
   ]
  },
  {
   "cell_type": "code",
   "execution_count": null,
   "metadata": {
    "slideshow": {
     "slide_type": "-"
    },
    "vscode": {
     "languageId": "java"
    }
   },
   "outputs": [],
   "source": [
    "System.out.println(1.e-100)"
   ]
  },
  {
   "cell_type": "markdown",
   "metadata": {},
   "source": [
    "- No se puede asignar un literal real (`double`, 64 bits) a una variable de tipo `float`, 32 bits, por pérdida potencial de precisión _(narrowing)_.\n",
    "- Si se desea asumir la potencial pérdida de precisión, soluciones:\n",
    "    - Uso del sufijo `f` o `F` en el literal\n",
    "    - Casting"
   ]
  },
  {
   "cell_type": "markdown",
   "metadata": {
    "slideshow": {
     "slide_type": "-"
    }
   },
   "source": [
    "#### Forzado a tipo `float` (4 bytes): sufijo `f` o `F`\n",
    "\n",
    "| Literal | Valor |\n",
    "| ------: | :--: | \n",
    "| $$0.\\text{f}$$     | $$0{,}0$$ |\n",
    "|$$12\\_345.342\\_2\\text{e}\\!-\\!16\\text{f}$$ | $$1{,}23453422\\cdot10^{−12}$$ |\n",
    "| $$2.\\text{E}3\\text{F}$$    | $$2000{,}0$$ |\n",
    "| $$-.2\\text{E}\\!-\\!3\\text{f}$$ | $$−2,0\\cdot10^{−4}$$ |\n",
    "| $$2.\\text{e}3\\text{F}$$  | $$2000{,}0$$ |\n",
    "| $$.4\\text{E}\\!+\\!3\\text{f}$$ | $$400{,}0$$ |\n",
    "| $$1.\\text{e}39\\text{f}$$  | Demasiado grande para un `float` |\n",
    "| $$1.\\text{e}\\!-\\!100\\text{f}$$ | Demasiado pequeño para un `float` |"
   ]
  },
  {
   "cell_type": "code",
   "execution_count": null,
   "metadata": {
    "vscode": {
     "languageId": "java"
    }
   },
   "outputs": [],
   "source": [
    "float x = 0.;\n",
    "System.out.println(\"x: \" + x);"
   ]
  },
  {
   "cell_type": "code",
   "execution_count": null,
   "metadata": {
    "vscode": {
     "languageId": "java"
    }
   },
   "outputs": [],
   "source": [
    "// Conversión de literal por sufijo\n",
    "float x = 0.f;\n",
    "System.out.println(\"x: \" + x);"
   ]
  },
  {
   "cell_type": "code",
   "execution_count": null,
   "metadata": {
    "vscode": {
     "languageId": "java"
    }
   },
   "outputs": [],
   "source": [
    "// Conversión de literal por casting\n",
    "float x = (float) 0.;\n",
    "System.out.println(\"x: \" + x);"
   ]
  },
  {
   "cell_type": "code",
   "execution_count": null,
   "metadata": {
    "slideshow": {
     "slide_type": "-"
    },
    "vscode": {
     "languageId": "java"
    }
   },
   "outputs": [],
   "source": [
    "System.out.println(.4E+3f)"
   ]
  },
  {
   "cell_type": "markdown",
   "metadata": {
    "slideshow": {
     "slide_type": "-"
    }
   },
   "source": [
    "¡Cuidado con los espacios en blanco!:"
   ]
  },
  {
   "cell_type": "code",
   "execution_count": null,
   "metadata": {
    "slideshow": {
     "slide_type": "-"
    },
    "vscode": {
     "languageId": "java"
    }
   },
   "outputs": [],
   "source": [
    "System.out.println(.4E + 3f)"
   ]
  },
  {
   "cell_type": "markdown",
   "metadata": {
    "slideshow": {
     "slide_type": "-"
    }
   },
   "source": [
    "El número `1.e39f` es demasiado _grande_ para un `float`: ¡overflow!:"
   ]
  },
  {
   "cell_type": "code",
   "execution_count": null,
   "metadata": {
    "slideshow": {
     "slide_type": "-"
    },
    "vscode": {
     "languageId": "java"
    }
   },
   "outputs": [],
   "source": [
    "System.out.println(1.e39f)"
   ]
  },
  {
   "cell_type": "markdown",
   "metadata": {
    "slideshow": {
     "slide_type": "-"
    }
   },
   "source": [
    "El número `1.e-100F` es demasiado _pequeño_ para un `float`: ¡underflow!:"
   ]
  },
  {
   "cell_type": "code",
   "execution_count": null,
   "metadata": {
    "slideshow": {
     "slide_type": "-"
    },
    "vscode": {
     "languageId": "java"
    }
   },
   "outputs": [],
   "source": [
    "System.out.println(1.e-100F)"
   ]
  },
  {
   "cell_type": "markdown",
   "metadata": {
    "slideshow": {
     "slide_type": "-"
    }
   },
   "source": [
    "#### Literales de *strings*\n",
    "\n",
    "- Un *string* es una cadena, secuencia, vector o _array_ de caracteres\n",
    "- La clase `String` permite almacenar este tipo de información\n",
    "- También podemos emplear un *array* de `char`, pero no dispondremos de los métodos específicos para *strings*\n",
    "- Un literal de *string* se forma entrecomillando (con comillas **DOBLES**) la secuencia de caracteres: `\"hola\"`"
   ]
  },
  {
   "cell_type": "markdown",
   "metadata": {
    "slideshow": {
     "slide_type": "-"
    }
   },
   "source": [
    "- El operador `+`\n",
    "    - Dos funcionalidades:\n",
    "        - Sumar dos números\n",
    "        - Concatenar dos strings\n",
    "    - Determinación de funcionalidad:\n",
    "        - Si al menos uno de los operandos es un *string*, se concatena el *string* en cuestión con la conversión a formato *string* del otro operando\n",
    "        - Sólo si los dos operandos son numéricos, realiza la suma algebraica convencional"
   ]
  },
  {
   "cell_type": "code",
   "execution_count": null,
   "metadata": {
    "slideshow": {
     "slide_type": "-"
    },
    "vscode": {
     "languageId": "java"
    }
   },
   "outputs": [],
   "source": [
    "String s1 = \"Hola, s\\u00ed se\\u00f1or\";\n",
    "System.out.println(\"s1: \" + s1);"
   ]
  },
  {
   "cell_type": "code",
   "execution_count": null,
   "metadata": {
    "slideshow": {
     "slide_type": "-"
    },
    "vscode": {
     "languageId": "java"
    }
   },
   "outputs": [],
   "source": [
    "String s2 = new String( \"Hola, s\\u00ed se\\u00f1or\" );\n",
    "System.out.println(\"s2: \" + s2);"
   ]
  },
  {
   "cell_type": "markdown",
   "metadata": {
    "slideshow": {
     "slide_type": "-"
    }
   },
   "source": [
    "#### Comparación de strings"
   ]
  },
  {
   "cell_type": "code",
   "execution_count": null,
   "metadata": {
    "slideshow": {
     "slide_type": "-"
    },
    "vscode": {
     "languageId": "java"
    }
   },
   "outputs": [],
   "source": [
    "String s1 = \"abc\";\n",
    "String s2 = \"abc\";\n",
    "String s3 = new String(\"abc\");\n",
    "\n",
    "\n",
    "// Comparación de Strings: ¡cuidado! String pool\n",
    "\n",
    "System.out.println( \"s1==s2: \" + (s1==s2) );\n",
    "System.out.println( \"s1==s3: \" + (s1==s3) ); // ?????\n",
    "System.out.println( \"s1.equals(s2): \" + s1.equals(s2) );\n",
    "System.out.println( \"s1.equals(s3): \" + s1.equals(s3) );\n",
    "System.out.println( \"s2.equals(s3): \" + s2.equals(s3) );"
   ]
  },
  {
   "cell_type": "markdown",
   "metadata": {
    "slideshow": {
     "slide_type": "-"
    }
   },
   "source": [
    "Un objeto *string* es **inmutable**"
   ]
  },
  {
   "cell_type": "code",
   "execution_count": null,
   "metadata": {
    "slideshow": {
     "slide_type": "-"
    },
    "vscode": {
     "languageId": "java"
    }
   },
   "outputs": [],
   "source": [
    "String s1 = \"Hola, \";\n",
    "String s2 = \"¿qué tal?\";\n",
    "s1 += s2; // Se crea un nuevo string; NO se \"reaprovecha\" s1\n",
    "System.out.println(\"s1: \" + s1)"
   ]
  },
  {
   "cell_type": "markdown",
   "metadata": {},
   "source": [
    "Suma de dos strings: concatenacion de los strings, según estrategia comentada anteriormente"
   ]
  },
  {
   "cell_type": "code",
   "execution_count": null,
   "metadata": {
    "slideshow": {
     "slide_type": "-"
    },
    "vscode": {
     "languageId": "java"
    }
   },
   "outputs": [],
   "source": [
    "String saludo1 = \"hola\" + \", ¿que tal?\";\n",
    "System.out.println(\"saludo1: \"+ saludo1);"
   ]
  },
  {
   "cell_type": "code",
   "execution_count": null,
   "metadata": {
    "slideshow": {
     "slide_type": "-"
    },
    "vscode": {
     "languageId": "java"
    }
   },
   "outputs": [],
   "source": [
    "String saludo2 = saludo1 + \" ¿Cómo estás?\";\n",
    "System.out.println(\"saludo2: \"+ saludo2);"
   ]
  },
  {
   "cell_type": "markdown",
   "metadata": {},
   "source": [
    "Suma de un string con otra variable: la otra variable se _convierte_ a string y se concatenan"
   ]
  },
  {
   "cell_type": "code",
   "execution_count": null,
   "metadata": {
    "slideshow": {
     "slide_type": "-"
    },
    "vscode": {
     "languageId": "java"
    }
   },
   "outputs": [],
   "source": [
    "int n = 241;\n",
    "String saludo3 = \"abcd\" + n;\n",
    "System.out.println(\"saludo3: \"+ saludo3);"
   ]
  },
  {
   "cell_type": "code",
   "execution_count": null,
   "metadata": {
    "slideshow": {
     "slide_type": "-"
    },
    "vscode": {
     "languageId": "java"
    }
   },
   "outputs": [],
   "source": [
    "int m = 'ñ'; // o bien 241; sería lo mismo\n",
    "String saludo4 = \"abcd\" + m;\n",
    "System.out.println(\"saludo4: \"+ saludo4);"
   ]
  },
  {
   "cell_type": "markdown",
   "metadata": {
    "slideshow": {
     "slide_type": "-"
    }
   },
   "source": [
    "##### Literales de caracteres, operación `+`  y strings\n",
    "\n",
    "- **ATENCIÓN**: si uno de los operandos de la operación `+` es de tipo `char`\n",
    "    - Si el otro es un `String`, entonces `+` concatena el *string* y la conversión a string del `char` como carácter UNICODE\n",
    "    - Si el otro es de tipo *numerico* (`byte`, `short`, `int`, `long`, `float`, `double`), o también `char`, \n",
    "entonces `+` suma algebraicamente\n"
   ]
  },
  {
   "cell_type": "code",
   "execution_count": null,
   "metadata": {
    "slideshow": {
     "slide_type": "-"
    },
    "vscode": {
     "languageId": "java"
    }
   },
   "outputs": [],
   "source": [
    "char p = 'ñ'; // o bien 241\n",
    "String saludo5 = \"abcd\" + p; // ahora el string se concatenará con un char, no con un entero\n",
    "System.out.println(\"saludo5: \"+ saludo5);"
   ]
  },
  {
   "cell_type": "code",
   "execution_count": null,
   "metadata": {
    "slideshow": {
     "slide_type": "-"
    },
    "vscode": {
     "languageId": "java"
    }
   },
   "outputs": [],
   "source": [
    "char p = 241; // o bien 'ñ', sería lo mismo\n",
    "String saludo5 = \"abcd\" + p;  // idem que anterior\n",
    "System.out.println(\"saludo5: \"+ saludo5);"
   ]
  },
  {
   "cell_type": "code",
   "execution_count": null,
   "metadata": {
    "slideshow": {
     "slide_type": "-"
    },
    "vscode": {
     "languageId": "java"
    }
   },
   "outputs": [],
   "source": [
    "char p = '\\u00F1'; // o bien 241, o bien `ñ`, sería lo mismo\n",
    "String saludo5 = \"abcd\" + p;  // idem que anterior\n",
    "System.out.println(\"saludo5: \"+ saludo5);"
   ]
  },
  {
   "cell_type": "code",
   "execution_count": null,
   "metadata": {
    "slideshow": {
     "slide_type": "-"
    },
    "vscode": {
     "languageId": "java"
    }
   },
   "outputs": [],
   "source": [
    "char q = 'ñ' + 1; // cual sera el siguiente caracter UNICODE a la eñe???\n",
    "String saludo6 = \"abcd\" + q;\n",
    "System.out.println(\"saludo6: \"+ saludo6)"
   ]
  },
  {
   "cell_type": "code",
   "execution_count": null,
   "metadata": {
    "slideshow": {
     "slide_type": "-"
    },
    "vscode": {
     "languageId": "java"
    }
   },
   "outputs": [],
   "source": [
    "char q = 241 + 1; // cual sera el siguiente caracter UNICODE a la eñe???\n",
    "String saludo6 = \"abcd\" + q;\n",
    "System.out.println(\"saludo6: \"+ saludo6)"
   ]
  },
  {
   "cell_type": "code",
   "execution_count": null,
   "metadata": {
    "slideshow": {
     "slide_type": "-"
    },
    "vscode": {
     "languageId": "java"
    }
   },
   "outputs": [],
   "source": [
    "char q = '\\u00F1' + 1; // cual sera el siguiente caracter UNICODE a la eñe???\n",
    "String saludo6 = \"abcd\" + q;\n",
    "System.out.println(\"saludo6: \"+ saludo6)"
   ]
  },
  {
   "cell_type": "code",
   "execution_count": null,
   "metadata": {
    "vscode": {
     "languageId": "java"
    }
   },
   "outputs": [],
   "source": [
    "char enye = 'ñ'; // o bien 0x00F1, o bien 241\n",
    "char a    = 'a'; // o bien 0x0061, o bien  97\n",
    "System.out.println(\"enye + a = \"+ enye + a + \" = \" + (short)(enye+a));"
   ]
  },
  {
   "cell_type": "code",
   "execution_count": null,
   "metadata": {
    "vscode": {
     "languageId": "java"
    }
   },
   "outputs": [],
   "source": [
    "// ¿Por qué sultilmente distinto a lo anterior? Precedencia de operaciones\n",
    "\n",
    "char enye = 'ñ'; // o bien 0x00F1, o bien 241\n",
    "char a    = 'a'; // o bien 0x0061, o bien  97\n",
    "System.out.println(\"enye + a = \"+ (enye + a) + \" = \" + (short)(enye+a)); // Diferencia con ejemplo anterior: paréntesis\n"
   ]
  },
  {
   "cell_type": "markdown",
   "metadata": {
    "slideshow": {
     "slide_type": "-"
    }
   },
   "source": [
    "##### Caracteres UNICODE:"
   ]
  },
  {
   "cell_type": "code",
   "execution_count": null,
   "metadata": {
    "slideshow": {
     "slide_type": "-"
    },
    "vscode": {
     "languageId": "java"
    }
   },
   "outputs": [],
   "source": [
    "// UNICODE (UTF-16) de z: 122=0x007a, ñ: 241=0x00f1\n",
    "char z = 'z';\n",
    "char enye = '\\u00f1';\n",
    "char comilla_simple = '\\'';\n",
    "char comilla_doble = '\\\"';\n",
    "char comilla_doble2 = '\"';\n",
    "System.out.println(z + enye + \"\\'\" + comilla_simple + comilla_doble + comilla_doble2 + \"\\\"\");\n"
   ]
  },
  {
   "cell_type": "code",
   "execution_count": null,
   "metadata": {
    "slideshow": {
     "slide_type": "-"
    },
    "vscode": {
     "languageId": "java"
    }
   },
   "outputs": [],
   "source": [
    "System.out.println(\"h\" + z + enye + \"\\'\" + comilla_simple + comilla_doble + comilla_doble2 + \"\\\"\");"
   ]
  },
  {
   "cell_type": "code",
   "execution_count": null,
   "metadata": {
    "slideshow": {
     "slide_type": "-"
    },
    "vscode": {
     "languageId": "java"
    }
   },
   "outputs": [],
   "source": [
    "// ...las siete (una) diferencias... con respecto al caso anterior\n",
    "\n",
    "// Unicode de h: 104=0x68, z: 122=0x7a, ñ: 241=0xf1\n",
    "System.out.println('h' + z + enye + \"\\'\" + comilla_simple + comilla_doble + comilla_doble2 + \"\\\"\");\n"
   ]
  },
  {
   "cell_type": "markdown",
   "metadata": {},
   "source": [
    "#### Conversión de variable u objeto a *string*\n",
    "- Dos pasos:\n",
    "     - Conversión *boxing* si es variable primitiva: objeto interino\n",
    "     - Aplicación del método `.toString()`\n"
   ]
  },
  {
   "cell_type": "code",
   "execution_count": null,
   "metadata": {
    "vscode": {
     "languageId": "java"
    }
   },
   "outputs": [],
   "source": [
    "int x = 1;\n",
    "System.out.println(\"x = \" + x); // Equivalente a siguiente línea\n",
    "System.out.println(\"x = \" + new Integer(x).toString() ); // boxing: new Integer(x) y después .toString()"
   ]
  },
  {
   "cell_type": "markdown",
   "metadata": {
    "slideshow": {
     "slide_type": "-"
    }
   },
   "source": [
    "#### Otros literales:\n",
    "\n",
    "- Literales de boolean: `true`, `false`\n",
    "- Literal de objeto _vacío_ : `null`\n",
    "- Literal de array (**solo en inicialización** de array):  `{ <valor_1>, <valor_2>, ...}`"
   ]
  },
  {
   "cell_type": "code",
   "execution_count": null,
   "metadata": {
    "vscode": {
     "languageId": "java"
    }
   },
   "outputs": [],
   "source": [
    "boolean b = false;\n",
    "String objeto = null;\n",
    "// ¡¡¡Única posibilidad de cargar un array literalmente: en la declaración!!!\n",
    "int [ ] v = { 1, 2, 3, 4 };"
   ]
  },
  {
   "cell_type": "code",
   "execution_count": null,
   "metadata": {
    "vscode": {
     "languageId": "java"
    }
   },
   "outputs": [],
   "source": [
    "// Incorrecto!!!\n",
    "int [] w;\n",
    "w = {1, 2, 3, 4};"
   ]
  },
  {
   "cell_type": "code",
   "execution_count": null,
   "metadata": {
    "vscode": {
     "languageId": "java"
    }
   },
   "outputs": [],
   "source": [
    "// Incorrecto!!!\n",
    "int [] w = new int[4];\n",
    "w = {1, 2, 3, 4};"
   ]
  },
  {
   "cell_type": "code",
   "execution_count": null,
   "metadata": {
    "vscode": {
     "languageId": "java"
    }
   },
   "outputs": [],
   "source": [
    "// Alternativa a \n",
    "// int[4] = {1, 2, 3, 4};\n",
    "\n",
    "int [] z = new int[4];\n",
    "z[0] = 1;\n",
    "z[1] = 2;\n",
    "z[2] = 3;\n",
    "z[3] = 4;"
   ]
  },
  {
   "cell_type": "markdown",
   "metadata": {
    "slideshow": {
     "slide_type": "-"
    }
   },
   "source": [
    "### 2.1.4. Constantes\n",
    "\n",
    "*Variables* cuyo valor se determina en la declaración y **ya no se puede modificar**: modificador `final`\n",
    "\n",
    "```java\n",
    "final <TIPO> <NOMBRE> = <VALOR> ;\n",
    "```"
   ]
  },
  {
   "cell_type": "code",
   "execution_count": null,
   "metadata": {
    "slideshow": {
     "slide_type": "-"
    },
    "vscode": {
     "languageId": "java"
    }
   },
   "outputs": [],
   "source": [
    "final float ANGULO = 45.f; // o 45f, o 45.0f, 45E0f ...\n",
    "System.out.println( \"ANGULO: \" + ANGULO );"
   ]
  },
  {
   "cell_type": "markdown",
   "metadata": {
    "slideshow": {
     "slide_type": "-"
    }
   },
   "source": [
    "**Nota**: por convenio, los nombres de las constantes se suelen escribir con todo **MAYÚSCULAS**"
   ]
  },
  {
   "cell_type": "markdown",
   "metadata": {},
   "source": [
    "**<div style=\"font-size:28px; color:blue\">EJERCICIO 2.1</div>**"
   ]
  },
  {
   "cell_type": "markdown",
   "metadata": {},
   "source": [
    "- Declárese una variable de tipo entero de nombre `numero`,  con el menor requerimiento de almacenamiento (menos bytes necesarios posibles)  que pueda contener un valor inicial de 24528, y escríbase en pantalla"
   ]
  },
  {
   "cell_type": "markdown",
   "metadata": {},
   "source": [
    "- Imprímase en pantalla la concatenación de la variable creada en el ejercicio anterior con el string `\"Este es el número pedido: \"`"
   ]
  },
  {
   "cell_type": "markdown",
   "metadata": {},
   "source": [
    "- Repítase el ejercicio anterior, pero declarando e inicializando una variable de tipo `String` de nombre `mensaje`, con el contenido \n",
    "`\"Este es el número pedido: \"`, concatenando posteriormente dicha variable `String` con la variable creada en el primer ejercicio, como argumento de la instrucción `Sytem.out.println(<ARGUMENTO>)`.\n"
   ]
  },
  {
   "cell_type": "markdown",
   "metadata": {},
   "source": [
    "- Declárese e inicialícese a `false` una variable booleana de nombre `control`, imprimiéndola en pantalla junto con el texto `\"Valor de control: \"`."
   ]
  },
  {
   "cell_type": "markdown",
   "metadata": {},
   "source": [
    "- Vuélvase a ejecutar el _snippet_ anterior modificando el valor inicial, esta vez a `true`."
   ]
  },
  {
   "cell_type": "code",
   "execution_count": null,
   "metadata": {
    "vscode": {
     "languageId": "java"
    }
   },
   "outputs": [],
   "source": [
    "short numero = 24528;\n",
    "String texto = \"Este es el numero pedido: \" + numero;\n",
    "System.out.println(texto);\n",
    "boolean control = false;\n",
    "System.out.println(\"Valor de control: \" + control);\n",
    "String texto = \"\\u4f60\\u597d\";\n",
    "System.out.println(texto)"
   ]
  },
  {
   "cell_type": "markdown",
   "metadata": {},
   "source": [
    "- Tradúzcase al español el string formado por los caracteres UNICODE `\\u4f60` y a continuación `u597d`, es decir, \n",
    "    ```java\n",
    "    String texto = \"\\u4f60\\u597d\";\n",
    "    ```\n",
    "\n",
    "- Sugerencias y pistas: \n",
    "    - Imprímase en pantalla\n",
    "    - Es chino.\n"
   ]
  },
  {
   "cell_type": "markdown",
   "metadata": {},
   "source": [
    "- Asígnese el literal `45326.7` a variables de tipo `byte`, `short`, `int`, `float` y  `double` de modo que no se \n",
    "produzca errores de compilación, indicando en qué casos habrá por pérdida de precisión en la asignación. Ejemplo:\n",
    "```java\n",
    "byte a = (byte)45326.7; // Aquí es necesario el casting para asumir la pérdida de precisión\n",
    "System.out.println(\"a: \"+a);\n",
    "...\n",
    "```"
   ]
  },
  {
   "cell_type": "markdown",
   "metadata": {},
   "source": [
    "- Con el método y su posterior invocación en el argumento de `System.out.println`:\n",
    "\n",
    "```java\n",
    "float cuadrado(float x) {\n",
    "    return x*x;\n",
    "}\n",
    "\n",
    "byte z = 3;\n",
    "System.out.println(\"z^2 = \" +  cuadrado(z) );\n",
    "```\n",
    "\n",
    "¿Con qué tipos la variable `z` **NO** puede estar en el argumento del método `cudadrado`?\n"
   ]
  },
  {
   "cell_type": "markdown",
   "metadata": {},
   "source": [
    "- Englóbense todas las instrucciones anteriores en una clase, como por ejemplo:\n",
    "\n",
    "```java\n",
    "public class Ejercicio {\n",
    "    public static void main (String[] args) {\n",
    "       // Todas las instrucciones anteriores\n",
    "    }\n",
    "}\n",
    "```\n",
    "\n",
    "    Y ejecútense desde:\n",
    "    - El presente Jupyter notebook\n",
    "    - Una ventana de línea de comandos\n",
    "    - Visual Studio Code\n",
    "    - IDE IntelliJ IDEA\n",
    "    - ..."
   ]
  },
  {
   "cell_type": "markdown",
   "metadata": {},
   "source": [
    "**<div style=\"font-size:20px; color:blue\">FIN EJERCICIO 2.1</div>**"
   ]
  },
  {
   "cell_type": "code",
   "execution_count": null,
   "metadata": {
    "vscode": {
     "languageId": "java"
    }
   },
   "outputs": [],
   "source": []
  }
 ],
 "metadata": {
  "celltoolbar": "Slideshow",
  "kernelspec": {
   "display_name": "Java",
   "language": "java",
   "name": "java"
  },
  "language_info": {
   "codemirror_mode": "java",
   "file_extension": ".jshell",
   "mimetype": "text/x-java-source",
   "name": "Java",
   "pygments_lexer": "java",
   "version": "18.0.2.1+1-1"
  }
 },
 "nbformat": 4,
 "nbformat_minor": 4
}
