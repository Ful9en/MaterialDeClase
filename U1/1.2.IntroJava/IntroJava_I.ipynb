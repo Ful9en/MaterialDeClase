{
 "cells": [
  {
   "cell_type": "markdown",
   "metadata": {
    "slideshow": {
     "slide_type": "-"
    }
   },
   "source": [
    "### Índice\n",
    "\n",
    "<div style=\"text-align:center; font-size:24px\">Introducción a Java</div>\n",
    "\n",
    "1. **Introducción**  \n",
    "    1.1. <a href=\"#que\">**¿Qué es Java?**</a>    \n",
    "    1.2. <a href=\"#contexto\">**Contexto**</a>    \n",
    "    1.3. <a href=\"#herramientas\">**Herramientas**</a>    \n",
    "    1.4. <a href=\"#compilacion\">**Compilación, depuración y ejecución en un entorno real**</a>   \n",
    "2. Variables, expresiones y control de flujo\n",
    "3. Clases y objetos\n",
    "4. Otros aspectos del lenguaje\n",
    "5. Ficheros `.jar`\n",
    "\n",
    "(Parte I)<br>\n",
    "P. Beneit<br>\n",
    "F. J. Martínez"
   ]
  },
  {
   "cell_type": "markdown",
   "metadata": {
    "slideshow": {
     "slide_type": "-"
    }
   },
   "source": [
    "<div id=\"intro\"></div>\n",
    "\n",
    "# [1. Introducción](#Índice)\n",
    "\n",
    "<div id=\"que\"></div>\n",
    "\n",
    "## [1.1. ¿Qué es Java?](#Índice)\n",
    "\n",
    "- ¿Qué es?\n",
    "\n",
    "    - Lenguaje de programación orientado a objetos y una plataforma de computación\n",
    "\n",
    "- ¿Quién?\n",
    "\n",
    "    - Sun Microsystems: 1995\n",
    "    \n",
    "- ¿Cómo?\n",
    "    - Inicialmente es compilado. Código objeto: byte code\n",
    "    - Después, interpretado por una máquina virtual (JVM: Java Virtual Machine)\n",
    "        - Independiencia de arquitectura o sistema operativo si existe JVM para la arquitectura en cuestión.\n",
    "            "
   ]
  },
  {
   "cell_type": "markdown",
   "metadata": {
    "slideshow": {
     "slide_type": "-"
    }
   },
   "source": [
    "### Partes:\n",
    "- JRE: Java Runtime Environment\n",
    "    - JVM: Java Virtual Machine\n",
    "    - Clases, librerías, ...\n",
    "    - ...\n",
    "- JDK: Java Development Kit:\n",
    "    - Compilador\n",
    "    - Herramientas de desarrollo (JavaDoc, Java Debugger,...)"
   ]
  },
  {
   "cell_type": "markdown",
   "metadata": {
    "slideshow": {
     "slide_type": "-"
    }
   },
   "source": [
    "<div id=\"contexto\"></div>\n",
    "\n",
    "## [1.2. Contexto](#Índice)\n",
    "\n",
    "- Motivo: \n",
    "    - Uno de los lenguajes más demandados en el mercado\n",
    "    - Abarca gran parte de conceptos fundamentales de programación\n",
    "    - Aprendizaje de Android\n",
    "- Estructura del lenguaje\n",
    "    - Variables\n",
    "    - Expresiones y sentencias\n",
    "    - Clases y objetos\n",
    "    - ...\n",
    "    "
   ]
  },
  {
   "cell_type": "markdown",
   "metadata": {
    "slideshow": {
     "slide_type": "-"
    }
   },
   "source": [
    "### Referencias:\n",
    "\n",
    "- Lenguaje:\n",
    "    - [Tutoriales Oracle](https://docs.oracle.com/javase/tutorial/)\n",
    "    - ...\n",
    "- Entrenamiento y autoaprendizaje: sugerencias\n",
    "    - [W3Schools](http://www.w3schools.com/JAVA/)\n",
    "    - [SoloLearn](http://www.sololearn.com)\n",
    "    \n",
    "    Apertura de cuenta personal, autoaprendizaje y realización de tests y\n",
    "    pruebas.\n",
    "    - ...\n",
    "    "
   ]
  },
  {
   "cell_type": "markdown",
   "metadata": {
    "slideshow": {
     "slide_type": "-"
    }
   },
   "source": [
    "<div id=\"herramientas\"></div>\n",
    "\n",
    "## [1.3. Herramientas](#Índice)"
   ]
  },
  {
   "cell_type": "markdown",
   "metadata": {
    "slideshow": {
     "slide_type": "-"
    }
   },
   "source": [
    "### Hardware necesario:\n",
    "\n",
    "- Cualquier máquina convencional:\n",
    "    - Windows\n",
    "    - MacOS-X\n",
    "    - Linux\n",
    "\n",
    "### Software necesario:\n",
    "\n",
    "- **JDK**: Java Develpment Kit\n",
    "\n",
    "- Editor de texto **plano**: cualquiera\n",
    "    - Sugerencias: \n",
    "        - Uso de editores embebidos en IDE _(Integrated Development Environment)_\n",
    "        - _Visual Studio Code_\n",
    "- Entornos de ejecución:\n",
    "    - Ventanas de línea de comandos: **CLI**\n",
    "    - IDE :\n",
    "        - **IntelliJ IDEA**\n",
    "        - _Visual Studio Code_ con algunas extensiones\n",
    "        - _Netbeans_\n",
    "        - ...\n",
    "    - Entorno **Jupyter Notebook** con *kernel* de Java `iJava`\n",
    "        - Ejecución de _fracciones_ de código o _snippets_\n",
    "\n",
    "\n"
   ]
  },
  {
   "cell_type": "markdown",
   "metadata": {
    "slideshow": {
     "slide_type": "-"
    }
   },
   "source": [
    "### JDK: Java Develpment Kit\n",
    "\n",
    "- Descarga: http://www.oracle.com/technetwork/es/java/javase/downloads/index.html\n",
    "  - Sugerencia: versión 21 (LTS)\n",
    "       \n",
    "- Entorno completo de compilación, depuración y ejecución para Java.\n",
    "    - Variables de entorno (Windows):\n",
    "        - Crear variable de entorno `JAVA_HOME` y asignarle el *path* del directorio que contiene el JDK:\n",
    "        ```bash\n",
    "        JAVA_HOME=C:\\Program Files (x86)\\Java\\jdk<VERSION>\n",
    "        ```\n",
    "        - Añadir a la variable `PATH` el subdirectorio `bin` de `JAVA_HOME`:\n",
    "        ```bash\n",
    "        PATH=%PATH%;%JAVA_HOME%\\bin\n",
    "        ```\n",
    "    - En Linux/Mac-OS-X (probablemente ya ajustado tras instalación):\n",
    "    ```bash\n",
    "    export PATH=$PATH:$JAVA_HOME/bin\n",
    "    ```"
   ]
  },
  {
   "cell_type": "markdown",
   "metadata": {},
   "source": [
    "### IDE: IntelliJ IDEA de Jetbrains\n",
    "\n",
    "- Utilizaremos en las ejemplos y pruebas el IDE de Jetbrains denominado IntelliJ IDEA.\n",
    "- Se sugiere que se instale la versión gratuita denominada [`Community Edition`](https://www.jetbrains.com/idea/download/):\n",
    "    - **NO** la primera versión que aparece: IntelliJ IDEA ULTIMATE\n",
    "    - Sino la que viene a continuación: **IntelliJ IDEA COMMUNITY EDITION**"
   ]
  },
  {
   "cell_type": "markdown",
   "metadata": {},
   "source": [
    "### Programación en Java\n",
    "\n",
    "#### Clases\n",
    "\n",
    "- Java es un lenguaje orientado a objetos\n",
    "\n",
    "- En Java se programa el contenido de _clases_ (y otras estructuras) en ficheros fuente Java. Ejemplo:\n",
    "    - Clase `MiClase` en fichero `MiClase.java`\n",
    "    ```java\n",
    "    public class MiClase {\n",
    "        // Descripción del contenido de la clase\n",
    "    }\n",
    "    ```\n",
    "\n",
    "#### Programa _principal_ en Java:\n",
    "\n",
    "- Esquema general del **programa principal**: clase que incluye una función (método) de _firma_ concreta:\n",
    "    - Método `main` (también conocido como _entry point_ y con modificadores `public` y `static`) con un parámetro (array de Strings). \n",
    "- Ejemplo: contenido del fichero `MiClase.java`:\n",
    "\n",
    "```java\n",
    "public class MiClase {\n",
    "    public static void main( String [] args ) {      // <- entry point\n",
    "        System.out.println(\"Hola mundo!!!\");\n",
    "    }\n",
    "}\n",
    "```                                                    "
   ]
  },
  {
   "cell_type": "markdown",
   "metadata": {
    "slideshow": {
     "slide_type": "-"
    }
   },
   "source": [
    "### Entorno de pruebas en el presente Jupyter Notebook: \n",
    "- Pueden emularse:\n",
    "    - Fragmentos de código o _snippets_ de Java ejecutables\n",
    "    - Ficheros completos: ficheros fuentes con _clases_ (u otras estructuras...), también ejecutables y reutilizables\n",
    "- Existen ciertas limitaciones...\n"
   ]
  },
  {
   "cell_type": "code",
   "execution_count": null,
   "metadata": {},
   "outputs": [],
   "source": [
    "// Ejemplo de snippet:\n",
    "\n",
    "System.out.println(\"Hola\");"
   ]
  },
  {
   "cell_type": "code",
   "execution_count": null,
   "metadata": {
    "slideshow": {
     "slide_type": "-"
    }
   },
   "outputs": [],
   "source": [
    "// Ejemplo de fichero fuente que describe una clase\n",
    "\n",
    "// IMPORTANTE: relación entre nombre de clase (Prueba), nombre de fichero fuente (Prueba.java);\n",
    "// tras compilación, creación del fichero clase (Prueba.class)\n",
    "// Esto no es estrictamente necesario, pero facilita algunos pasos\n",
    "\n",
    "// Fichero: Prueba.java\n",
    "\n",
    "public class Prueba {\n",
    "    \n",
    "    public static void main (String[] args) {\n",
    "    \n",
    "        System.out.println(\"¡Hola mundo!\");\n",
    "        \n",
    "    } // main\n",
    "    \n",
    "} // class Prueba"
   ]
  },
  {
   "cell_type": "markdown",
   "metadata": {},
   "source": [
    "#### Ejecución (aquí, en Jupyter Notebook: compilación implícita):"
   ]
  },
  {
   "cell_type": "code",
   "execution_count": null,
   "metadata": {},
   "outputs": [],
   "source": [
    "Prueba.main(null);"
   ]
  },
  {
   "cell_type": "markdown",
   "metadata": {},
   "source": [
    "### Importante:\n",
    "\n",
    "- Explicaremos el lenguaje Java tanto\n",
    "    - ... con _snippets_ en el Jupyter Notebook \n",
    "    - ... al principio, algunos ejemplos completos en línea de comandos\n",
    "    - ... así como finalmente en el IDE escogido\n",
    "- No perdadmos la referencia real\n",
    "    - Todo gira en torno al concepto de clases y objetos\n",
    "    - Siempre debería haber un _entry point_ en nuestra aplicación Java"
   ]
  },
  {
   "cell_type": "markdown",
   "metadata": {
    "slideshow": {
     "slide_type": "-"
    }
   },
   "source": [
    "<div id=\"compilacion\"></div>\n",
    "\n",
    "## [1.4. Compilación, depuración y ejecución en un entorno real](#Índice)\n",
    "\n",
    "- Java:\n",
    "    - Compilación: lenguaje compilado a _byte code_\n",
    "    - Ejecución: el _byte code_ es interpretado por una máquina virtual Java (JVM: _Java Virtual Machine_ )\n",
    "        - Depuración _(debugging)_ : ejecución controlada observando cómo se comporta el código, valor de variables, etc.\n",
    "- **Compilación**: \n",
    "    - En ventana de línea de comandos (`#` denota comentario de línea, y `>` o `$` denota _prompt_):\n",
    "    ```bash\n",
    "    # Aparecería fichero `Prueba.class` si no hay errores\n",
    "    $ javac Prueba.java  \n",
    "\n",
    "    ```\n",
    "\n",
    "    - En IDE: depende del entorno gráfico (GUI: Graphical User Interface)\n",
    "        - Suele denominarase _\"Building\"_\n",
    "        - Dentro de un mismo IDE pueden existir varios esquemas de _building_\n",
    "            - Propio del IDE\n",
    "            - Marven\n",
    "            - Gradle\n",
    "            - ...\n",
    "        - Se diferencian en estrategia de compilación \n",
    "            - ... pero todos acaban invocando a `javac`\n",
    "\n",
    "- **Depuración**: \n",
    "    - En ventana de línea de comandos\n",
    "    ```bash\n",
    "    $ jdb Prueba\n",
    "    ...\n",
    "    ```\n",
    "    - En IDE: depende del entorno gráfico (GUI: Graphical User Interface)\n",
    "\n",
    "\n",
    "- **Ejecución**: \n",
    "    - En ventana de línea de comandos:\n",
    "    ```bash\n",
    "    $ java Prueba\n",
    "    ¡Hola mundo!\n",
    "\n",
    "    ```\n",
    "    - En IDE: depende del entorno gráfico (GUI: Graphical User Interface)\n",
    "    - En cualquier caso, lo que se hace es invocar a `<CLASE_ENTRY_POINT>.main(<ARGS>)`: _entry point_\n",
    "    \n",
    "- Problemas con la variable de entorno `CLASSPATH`:\n",
    "    - Una variable de entorno es un valor atribuido a un identificador que se puede utilizar en un programa o en un terminal\n",
    "    - Java usa la variable de entorno `CLASSPATH` (secuencia de directorios para buscar las clases necesarias para llevar a cabo la compilación y ejecución).\n",
    "        - Si no está definida, no debería haber ningun problema\n",
    "        - Si está definida, solo busca en esa secuencia de directorios\n",
    "            > Para saber si está definida en Windows, escríbase en un terminal\n",
    "            > ```bash\n",
    "            > set CLASSPATH\n",
    "            > ```\n",
    "            > y obsérvese la respuesta\n",
    "            - Si la clase en cuestión está en el directorio actual (`.`) y dicho directorio no está en la lista de directorios de la variable de entorno `CLASSPATH`, dará un error la compilación/ejecución. Puede solucionarse haciendo\n",
    "            ```bash\n",
    "            set CLASSPATH=%CLASSPATH%:.\n",
    "            "
   ]
  },
  {
   "cell_type": "markdown",
   "metadata": {},
   "source": [
    "#### Nota aclaratoria:\n",
    "\n",
    "- Cuando se expresen instrucciones a ejecutar en una ventana de línea de comandos (terminal), se intentará seguir el convenio de utilizar el prompt `>` cuando pretendamos indicar que estamos en una plataforma Windows y `$` cuando lo estemos en una de tipo Linux o Mac OS X, aunque esto no implicará que el ejemplo mostrado sea exclusivo de la plataforma en cuestión: \n",
    "    - En principio la ejecución será idéntica en todas ellas\n",
    "- Recuérdese que los separadores de directorios en diferentes sistemas operativos pueden ser distintos en función de la ventana de línea de comandos que usemos, así:\n",
    "    - En Windows CMD, el separador de directorios es `\\`\n",
    "    - En Git Bash de Windows, el separador de directorios es `/`\n",
    "    - En un terminal de Linux/Mac OS X, el separador de directorios es `/`\n",
    "    "
   ]
  },
  {
   "cell_type": "markdown",
   "metadata": {},
   "source": [
    "**<div style=\"font-size:28px; color:blue\">EJERCICIO 1.2.1</div>**"
   ]
  },
  {
   "cell_type": "markdown",
   "metadata": {},
   "source": [
    "- Edítese mediante Visual Studio Code el fichero `Prueba.java` el contenido del ejemplo anterior\n",
    "- Compílese en línea de comandos con \n",
    "```bash\n",
    "> javac Prueba.java\n",
    "```\n",
    "Obsérvese que si no hay errores sintácticos, la salida será _nula_ y se habrá creado el fichero `Prueba.class`.\n",
    "- Ejecútese en línea de comandos\n",
    "```bash\n",
    "> java Prueba\n",
    "...\n",
    "```\n",
    "    **IMPORTANTE**: respétese la sintaxis\n",
    "    - `java` requiere como argumento el nombre de la clase (**no** del fichero que contiene a la clase): `Prueba` en el ejemplo (**no** `Prueba.class`)\n",
    "\n",
    "  Obsérvese la salida y compruébese que el resultado es el esperado\n",
    "    \n",
    "    \n",
    "- Ejecútese (y edítese en su caso) en entornos alternativos ([Ejercicio 1.2.1, https://github.com/ATELEM-24-25/U1T2-Ej1.2.1.git](https://github.com/ATELEM-24-25/U1T2-Ej1.2.1.git)):\n",
    "    - En el IDE **IntelliJ IDEA** creando un proyecto a tal efecto\n",
    "    \n",
    "    "
   ]
  },
  {
   "cell_type": "markdown",
   "metadata": {},
   "source": [
    "**<div style=\"font-size:20px; color:blue\">FIN EJERCICIO</div>**        "
   ]
  },
  {
   "cell_type": "markdown",
   "metadata": {},
   "source": [
    "**<div style=\"font-size:28px; color:blue\">EJERCICIO 1.2.2</div>**"
   ]
  },
  {
   "cell_type": "markdown",
   "metadata": {},
   "source": [
    "Varias clases [(Ejercicio 1.2.2, https://github.com/ATELEM-24-25/U1T2-Ej1.2.2.git)](https://github.com/ATELEM-24-25/U1T2-Ej1.2.2.git). En este ejemplo se observará cómo se puede configurar un proyecto cuando hay varias clases implicadas. Tanto en línea de comandos como con el IDE."
   ]
  },
  {
   "cell_type": "markdown",
   "metadata": {},
   "source": [
    "**<div style=\"font-size:20px; color:blue\">FIN EJERCICIO</div>**      "
   ]
  },
  {
   "cell_type": "markdown",
   "metadata": {
    "slideshow": {
     "slide_type": "-"
    }
   },
   "source": [
    "### En jupyter notebooks\n",
    "- Esquema REPL (Read-Evaluate-Print-Loop)\n",
    "    - Este esquema **no** es natural en Java: lenguaje compilado y posteriormente interpretado en maquina virtual:\n",
    "        - `javac` -> `java`\n",
    "    - Emulación de REPL con Java: algunas inconsistencias (salvables)\n",
    "- Observemos equivalencias de ejecución para poder aprender más ágilmente los detalles del lenguaje de programación Java. La equivalencia de ejecución del comando en ventana de línea de comandos \n",
    "```java\n",
    "$ java Prueba\n",
    "```\n",
    "en el presente Jupyter Notebook sería:"
   ]
  },
  {
   "cell_type": "code",
   "execution_count": null,
   "metadata": {
    "slideshow": {
     "slide_type": "-"
    }
   },
   "outputs": [],
   "source": [
    "Prueba.main(new String[]{});\n"
   ]
  },
  {
   "cell_type": "markdown",
   "metadata": {
    "slideshow": {
     "slide_type": "subslide"
    }
   },
   "source": [
    "En muchas ocasiones, si se sabe a priori que `main` no va a trabajar con el parámetro `args`, entonces la invocación \n",
    "la podremos hacer dede el Jupyter Notebook como :\n",
    "```\n",
    "Prueba.main(null);\n",
    "```\n"
   ]
  },
  {
   "cell_type": "code",
   "execution_count": null,
   "metadata": {},
   "outputs": [],
   "source": [
    "Prueba.main(null);"
   ]
  },
  {
   "cell_type": "markdown",
   "metadata": {},
   "source": [
    "En Jupyter Notebook no es necesario que el código esté descrito en una clase:\n",
    "- Se pueden ejecutar fracciones de código _(snippets)_ sin necesidad de estar inscrito en una clase:"
   ]
  },
  {
   "cell_type": "code",
   "execution_count": null,
   "metadata": {},
   "outputs": [],
   "source": [
    "int i = 3;\n",
    "if ( i > 3 ) { System.out.println(\"i es mayor que 3\"); }\n",
    "else         { System.out.println(\"i no es mayor que 3\"); }"
   ]
  },
  {
   "cell_type": "markdown",
   "metadata": {
    "slideshow": {
     "slide_type": "-"
    }
   },
   "source": [
    "### 1.4.1. Entorno de pruebas:  depuración  *(debugging)*"
   ]
  },
  {
   "cell_type": "markdown",
   "metadata": {
    "slideshow": {
     "slide_type": "-"
    }
   },
   "source": [
    "- Etimología *debug*: desinsectar (historia...)\n",
    "- Utilidad: seguimiento en la ejecución de un programa Java\n",
    "    - Ejecución instrucción a instrucción\n",
    "    - Ejecución de métodos o funciones completas\n",
    "    - Establecimiento de puntos de ruptura o _breakpoints_\n",
    "    - Entrar/salir de funciones\n",
    "    - Visualizar/modificar contenido de variables\n",
    "    - ...\n",
    "- Numerosas herramientas: `Java Platform Debugger Architecture`\n",
    "- `jdb`: depuración en línea de comandos\n"
   ]
  },
  {
   "cell_type": "markdown",
   "metadata": {},
   "source": [
    "**<div style=\"font-size:28px; color:blue\">EJERCICIO 1.2.3</div>**"
   ]
  },
  {
   "cell_type": "markdown",
   "metadata": {
    "slideshow": {
     "slide_type": "-"
    }
   },
   "source": [
    "\n",
    "#### Depuración en  IDE IntelliJ [Ej.1.2.3, https://github.com/ATELEM-24-25/U1T2-Ej1.2.3.git](https://github.com/ATELEM-24-25/U1T2-Ej1.2.3.git) \n",
    "\n",
    "- Muy cómoda: de tipo gráfico\n",
    "- El IDE Emplea símbolos convencionales que podemos encontrarnos en otros IDE\n"
   ]
  },
  {
   "cell_type": "markdown",
   "metadata": {},
   "source": [
    "#### Depuración en línea de comandos\n",
    "- También es posible con `jdb`, pero es un poco más tediosa: no se va a estudiar."
   ]
  },
  {
   "cell_type": "markdown",
   "metadata": {},
   "source": [
    "**<div style=\"font-size:20px; color:blue\">FIN EJERCICIO</div>**      "
   ]
  },
  {
   "cell_type": "markdown",
   "metadata": {
    "slideshow": {
     "slide_type": "-"
    }
   },
   "source": [
    "#### Depuración en Jupyter Notebook\n",
    "\n",
    "- **No** hay posibilidad de depuración\n",
    "- Los códigos serán relativamente pequeños\n",
    "    - Fácil seguimiento"
   ]
  },
  {
   "cell_type": "markdown",
   "metadata": {
    "slideshow": {
     "slide_type": "-"
    }
   },
   "source": [
    "### 1.4.2. *Desensamblador* de Java\n",
    "\n",
    "El comando\n",
    "```bash\n",
    "$ javap Fichero.class\n",
    "```\n",
    "permite observar algunas propiedades de los ficheros `.class` resultantes de la compilación\n",
    "Véase `javap -help` para una explicación de las posibles opciones\n",
    "\n",
    "No tiene demasiado sentido en el contexto del Jupyter Notebook"
   ]
  }
 ],
 "metadata": {
  "celltoolbar": "Slideshow",
  "kernelspec": {
   "display_name": "Java",
   "language": "java",
   "name": "java"
  },
  "language_info": {
   "codemirror_mode": "java",
   "file_extension": ".jshell",
   "mimetype": "text/x-java-source",
   "name": "Java",
   "pygments_lexer": "java",
   "version": "18.0.2.1+1-1"
  }
 },
 "nbformat": 4,
 "nbformat_minor": 4
}
